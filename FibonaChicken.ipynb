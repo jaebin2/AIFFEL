{
 "cells": [
  {
   "cell_type": "code",
   "execution_count": 1,
   "id": "tough-andrew",
   "metadata": {},
   "outputs": [
    {
     "name": "stdout",
     "output_type": "stream",
     "text": [
      "687\n"
     ]
    }
   ],
   "source": [
    "memory = {1: 1, 2: 1}\n",
    "\n",
    "def fibonacci(n):\n",
    "    if n in memory:\n",
    "        number = memory[n]\n",
    "    else:\n",
    "        number = fibonacci(n-1) + fibonacci(n-2)\n",
    "        memory[n] = number\n",
    "    return number    \n",
    "def minus(n):\n",
    "    a=3\n",
    "    while n>=fibonacci(a):\n",
    "        a+=1\n",
    "        if n==fibonacci(a):\n",
    "            return n\n",
    "            \n",
    "    return n-fibonacci(a-1)\n",
    "def FibonaChicken(n):\n",
    "    a=2\n",
    "    c=0\n",
    "    while n>=fibonacci(a):\n",
    "        if n==fibonacci(a):\n",
    "            number=fibonacci(a-1)\n",
    "            c=1\n",
    "            break\n",
    "        a+=1\n",
    "    if c==1:\n",
    "        return number\n",
    "    \n",
    "    number=FibonaChicken(minus(n))+FibonaChicken(n-minus(n))\n",
    "    \n",
    "    return number\n",
    "print(FibonaChicken(1111))\n"
   ]
  },
  {
   "cell_type": "code",
   "execution_count": null,
   "id": "discrete-stephen",
   "metadata": {},
   "outputs": [],
   "source": []
  }
 ],
 "metadata": {
  "kernelspec": {
   "display_name": "Python 3",
   "language": "python",
   "name": "python3"
  },
  "language_info": {
   "codemirror_mode": {
    "name": "ipython",
    "version": 3
   },
   "file_extension": ".py",
   "mimetype": "text/x-python",
   "name": "python",
   "nbconvert_exporter": "python",
   "pygments_lexer": "ipython3",
   "version": "3.7.9"
  }
 },
 "nbformat": 4,
 "nbformat_minor": 5
}
