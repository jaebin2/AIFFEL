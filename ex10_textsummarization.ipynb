{
 "cells": [
  {
   "cell_type": "code",
   "execution_count": 1,
   "id": "arbitrary-sydney",
   "metadata": {},
   "outputs": [
    {
     "name": "stderr",
     "output_type": "stream",
     "text": [
      "[nltk_data] Downloading package stopwords to /aiffel/nltk_data...\n",
      "[nltk_data]   Package stopwords is already up-to-date!\n"
     ]
    }
   ],
   "source": [
    "import nltk\n",
    "nltk.download('stopwords')\n",
    "\n",
    "import numpy as np\n",
    "import pandas as pd\n",
    "import os\n",
    "import re\n",
    "import urllib.request\n",
    "import warnings\n",
    "import requests\n",
    "import matplotlib.pyplot as plt\n",
    "from nltk.corpus import stopwords\n",
    "from bs4 import BeautifulSoup \n",
    "from tensorflow.keras.preprocessing.text import Tokenizer \n",
    "from tensorflow.keras.preprocessing.sequence import pad_sequences\n",
    "from summa.summarizer import summarize\n",
    "from tensorflow.keras.layers import Input, LSTM, Embedding, Dense, Concatenate\n",
    "from tensorflow.keras.models import Model\n",
    "from tensorflow.keras.callbacks import EarlyStopping, ModelCheckpoint\n",
    "warnings.filterwarnings(\"ignore\", category=UserWarning, module='bs4')"
   ]
  },
  {
   "cell_type": "code",
   "execution_count": 2,
   "id": "brazilian-paintball",
   "metadata": {},
   "outputs": [
    {
     "name": "stdout",
     "output_type": "stream",
     "text": [
      "전체 샘플수 : 98401\n"
     ]
    }
   ],
   "source": [
    "urllib.request.urlretrieve(\"https://raw.githubusercontent.com/sunnysai12345/News_Summary/master/news_summary_more.csv\", filename=\"news_summary_more.csv\")\n",
    "data = pd.read_csv('news_summary_more.csv', encoding='iso-8859-1')\n",
    "#data = pd.read_csv(os.getenv(\"HOME\")+\"/aiffel/news_summarization/data/Reviews.csv\", nrows=100000)\n",
    "print('전체 샘플수 :', (len(data)))"
   ]
  },
  {
   "cell_type": "code",
   "execution_count": 3,
   "id": "juvenile-thread",
   "metadata": {
    "scrolled": true
   },
   "outputs": [
    {
     "data": {
      "text/html": [
       "<div>\n",
       "<style scoped>\n",
       "    .dataframe tbody tr th:only-of-type {\n",
       "        vertical-align: middle;\n",
       "    }\n",
       "\n",
       "    .dataframe tbody tr th {\n",
       "        vertical-align: top;\n",
       "    }\n",
       "\n",
       "    .dataframe thead th {\n",
       "        text-align: right;\n",
       "    }\n",
       "</style>\n",
       "<table border=\"1\" class=\"dataframe\">\n",
       "  <thead>\n",
       "    <tr style=\"text-align: right;\">\n",
       "      <th></th>\n",
       "      <th>headlines</th>\n",
       "      <th>text</th>\n",
       "    </tr>\n",
       "  </thead>\n",
       "  <tbody>\n",
       "    <tr>\n",
       "      <th>0</th>\n",
       "      <td>upGrad learner switches to career in ML &amp; Al w...</td>\n",
       "      <td>Saurav Kant, an alumnus of upGrad and IIIT-B's...</td>\n",
       "    </tr>\n",
       "    <tr>\n",
       "      <th>1</th>\n",
       "      <td>Delhi techie wins free food from Swiggy for on...</td>\n",
       "      <td>Kunal Shah's credit card bill payment platform...</td>\n",
       "    </tr>\n",
       "    <tr>\n",
       "      <th>2</th>\n",
       "      <td>New Zealand end Rohit Sharma-led India's 12-ma...</td>\n",
       "      <td>New Zealand defeated India by 8 wickets in the...</td>\n",
       "    </tr>\n",
       "    <tr>\n",
       "      <th>3</th>\n",
       "      <td>Aegon life iTerm insurance plan helps customer...</td>\n",
       "      <td>With Aegon Life iTerm Insurance plan, customer...</td>\n",
       "    </tr>\n",
       "    <tr>\n",
       "      <th>4</th>\n",
       "      <td>Have known Hirani for yrs, what if MeToo claim...</td>\n",
       "      <td>Speaking about the sexual harassment allegatio...</td>\n",
       "    </tr>\n",
       "  </tbody>\n",
       "</table>\n",
       "</div>"
      ],
      "text/plain": [
       "                                           headlines  \\\n",
       "0  upGrad learner switches to career in ML & Al w...   \n",
       "1  Delhi techie wins free food from Swiggy for on...   \n",
       "2  New Zealand end Rohit Sharma-led India's 12-ma...   \n",
       "3  Aegon life iTerm insurance plan helps customer...   \n",
       "4  Have known Hirani for yrs, what if MeToo claim...   \n",
       "\n",
       "                                                text  \n",
       "0  Saurav Kant, an alumnus of upGrad and IIIT-B's...  \n",
       "1  Kunal Shah's credit card bill payment platform...  \n",
       "2  New Zealand defeated India by 8 wickets in the...  \n",
       "3  With Aegon Life iTerm Insurance plan, customer...  \n",
       "4  Speaking about the sexual harassment allegatio...  "
      ]
     },
     "execution_count": 3,
     "metadata": {},
     "output_type": "execute_result"
    }
   ],
   "source": [
    "data.head()"
   ]
  },
  {
   "cell_type": "code",
   "execution_count": 4,
   "id": "happy-nicaragua",
   "metadata": {},
   "outputs": [
    {
     "data": {
      "text/html": [
       "<div>\n",
       "<style scoped>\n",
       "    .dataframe tbody tr th:only-of-type {\n",
       "        vertical-align: middle;\n",
       "    }\n",
       "\n",
       "    .dataframe tbody tr th {\n",
       "        vertical-align: top;\n",
       "    }\n",
       "\n",
       "    .dataframe thead th {\n",
       "        text-align: right;\n",
       "    }\n",
       "</style>\n",
       "<table border=\"1\" class=\"dataframe\">\n",
       "  <thead>\n",
       "    <tr style=\"text-align: right;\">\n",
       "      <th></th>\n",
       "      <th>headlines</th>\n",
       "      <th>text</th>\n",
       "    </tr>\n",
       "  </thead>\n",
       "  <tbody>\n",
       "    <tr>\n",
       "      <th>70813</th>\n",
       "      <td>Woman dupes fiancÃÂ©, 29 friends with fake ba...</td>\n",
       "      <td>A UK woman allegedly duped her fiancÃÂ© and h...</td>\n",
       "    </tr>\n",
       "    <tr>\n",
       "      <th>94926</th>\n",
       "      <td>Trump blames Syrian chemical attack on Obama g...</td>\n",
       "      <td>Talking about Tuesday's chemical attack in Syr...</td>\n",
       "    </tr>\n",
       "    <tr>\n",
       "      <th>9198</th>\n",
       "      <td>400 paramilitary personnel killed in action in...</td>\n",
       "      <td>The Ministry of Home Affairs on Wednesday said...</td>\n",
       "    </tr>\n",
       "    <tr>\n",
       "      <th>51851</th>\n",
       "      <td>Trolls on my sexual orientation affect me: Pri...</td>\n",
       "      <td>Bigg Boss 11 contestant Priyank Sharma, who wa...</td>\n",
       "    </tr>\n",
       "    <tr>\n",
       "      <th>80184</th>\n",
       "      <td>How is 'Dahi Handi' an adventure sport, HC ask...</td>\n",
       "      <td>The Bombay High Court on Monday asked the Maha...</td>\n",
       "    </tr>\n",
       "    <tr>\n",
       "      <th>86401</th>\n",
       "      <td>1,400 soccer fans injured in Italy stampede ov...</td>\n",
       "      <td>As many as 1,400 soccer fans watching the Cham...</td>\n",
       "    </tr>\n",
       "    <tr>\n",
       "      <th>75844</th>\n",
       "      <td>Billionaire Khosla forced to open beach he shu...</td>\n",
       "      <td>A US court has ordered Indian-American billion...</td>\n",
       "    </tr>\n",
       "    <tr>\n",
       "      <th>57786</th>\n",
       "      <td>Game of Thrones actor Kit Harington named Wors...</td>\n",
       "      <td>Kit Harington, who portrays 'Jon Snow' on 'Gam...</td>\n",
       "    </tr>\n",
       "    <tr>\n",
       "      <th>45443</th>\n",
       "      <td>Kerala CM Pinarayi Vijayan admitted in Chennai...</td>\n",
       "      <td>Kerala Chief Minister Pinarayi Vijayan has bee...</td>\n",
       "    </tr>\n",
       "    <tr>\n",
       "      <th>35308</th>\n",
       "      <td>Films do not interest my daughter Nysa right n...</td>\n",
       "      <td>Ajay Devgn has said that though his daughter N...</td>\n",
       "    </tr>\n",
       "    <tr>\n",
       "      <th>91950</th>\n",
       "      <td>In Pictures: Quotes on Sachin Tendulkar</td>\n",
       "      <td>\"I have seen God. He bats at number four for I...</td>\n",
       "    </tr>\n",
       "    <tr>\n",
       "      <th>88827</th>\n",
       "      <td>Modi is PM because people found him capable: N...</td>\n",
       "      <td>Bihar CM Nitish Kumar on Monday said that Nare...</td>\n",
       "    </tr>\n",
       "    <tr>\n",
       "      <th>21448</th>\n",
       "      <td>Red alert in Kerala amid floods, over 65 death...</td>\n",
       "      <td>The India Meteorological Department has issued...</td>\n",
       "    </tr>\n",
       "    <tr>\n",
       "      <th>1293</th>\n",
       "      <td>Finance Minister Jaitley misses 'Halwa Ceremon...</td>\n",
       "      <td>Finance Minister Arun Jaitley, who is in the U...</td>\n",
       "    </tr>\n",
       "    <tr>\n",
       "      <th>65349</th>\n",
       "      <td>Israeli jets attack Syrian missile launcher in...</td>\n",
       "      <td>Israel on Monday said its jets attacked a Syri...</td>\n",
       "    </tr>\n",
       "  </tbody>\n",
       "</table>\n",
       "</div>"
      ],
      "text/plain": [
       "                                               headlines  \\\n",
       "70813  Woman dupes fiancÃÂ©, 29 friends with fake ba...   \n",
       "94926  Trump blames Syrian chemical attack on Obama g...   \n",
       "9198   400 paramilitary personnel killed in action in...   \n",
       "51851  Trolls on my sexual orientation affect me: Pri...   \n",
       "80184  How is 'Dahi Handi' an adventure sport, HC ask...   \n",
       "86401  1,400 soccer fans injured in Italy stampede ov...   \n",
       "75844  Billionaire Khosla forced to open beach he shu...   \n",
       "57786  Game of Thrones actor Kit Harington named Wors...   \n",
       "45443  Kerala CM Pinarayi Vijayan admitted in Chennai...   \n",
       "35308  Films do not interest my daughter Nysa right n...   \n",
       "91950            In Pictures: Quotes on Sachin Tendulkar   \n",
       "88827  Modi is PM because people found him capable: N...   \n",
       "21448  Red alert in Kerala amid floods, over 65 death...   \n",
       "1293   Finance Minister Jaitley misses 'Halwa Ceremon...   \n",
       "65349  Israeli jets attack Syrian missile launcher in...   \n",
       "\n",
       "                                                    text  \n",
       "70813  A UK woman allegedly duped her fiancÃÂ© and h...  \n",
       "94926  Talking about Tuesday's chemical attack in Syr...  \n",
       "9198   The Ministry of Home Affairs on Wednesday said...  \n",
       "51851  Bigg Boss 11 contestant Priyank Sharma, who wa...  \n",
       "80184  The Bombay High Court on Monday asked the Maha...  \n",
       "86401  As many as 1,400 soccer fans watching the Cham...  \n",
       "75844  A US court has ordered Indian-American billion...  \n",
       "57786  Kit Harington, who portrays 'Jon Snow' on 'Gam...  \n",
       "45443  Kerala Chief Minister Pinarayi Vijayan has bee...  \n",
       "35308  Ajay Devgn has said that though his daughter N...  \n",
       "91950  \"I have seen God. He bats at number four for I...  \n",
       "88827  Bihar CM Nitish Kumar on Monday said that Nare...  \n",
       "21448  The India Meteorological Department has issued...  \n",
       "1293   Finance Minister Arun Jaitley, who is in the U...  \n",
       "65349  Israel on Monday said its jets attacked a Syri...  "
      ]
     },
     "execution_count": 4,
     "metadata": {},
     "output_type": "execute_result"
    }
   ],
   "source": [
    "data = data[['headlines','text']]\n",
    "data.head()\n",
    "\n",
    "#랜덤한 15개 샘플 출력\n",
    "data.sample(15)"
   ]
  },
  {
   "cell_type": "code",
   "execution_count": 5,
   "id": "charming-fisher",
   "metadata": {},
   "outputs": [
    {
     "name": "stdout",
     "output_type": "stream",
     "text": [
      "text 열에서 중복을 배제한 유일한 샘플의 수 : 98360\n",
      "headlines 열에서 중복을 배제한 유일한 샘플의 수 : 98280\n"
     ]
    }
   ],
   "source": [
    "print('text 열에서 중복을 배제한 유일한 샘플의 수 :', data['text'].nunique())\n",
    "print('headlines 열에서 중복을 배제한 유일한 샘플의 수 :', data['headlines'].nunique())"
   ]
  },
  {
   "cell_type": "code",
   "execution_count": 6,
   "id": "expired-march",
   "metadata": {},
   "outputs": [
    {
     "name": "stdout",
     "output_type": "stream",
     "text": [
      "전체 샘플수 : 98360\n"
     ]
    }
   ],
   "source": [
    "# inplace=True 를 설정하면 DataFrame 타입 값을 return 하지 않고 data 내부를 직접적으로 바꿉니다\n",
    "data.drop_duplicates(subset = ['text'], inplace=True)\n",
    "print('전체 샘플수 :', (len(data)))"
   ]
  },
  {
   "cell_type": "code",
   "execution_count": 7,
   "id": "colonial-announcement",
   "metadata": {},
   "outputs": [
    {
     "name": "stdout",
     "output_type": "stream",
     "text": [
      "headlines    0\n",
      "text         0\n",
      "dtype: int64\n"
     ]
    }
   ],
   "source": [
    "print(data.isnull().sum())"
   ]
  },
  {
   "cell_type": "code",
   "execution_count": 8,
   "id": "urban-wrist",
   "metadata": {},
   "outputs": [
    {
     "name": "stdout",
     "output_type": "stream",
     "text": [
      "전체 샘플수 : 98360\n"
     ]
    }
   ],
   "source": [
    "data.dropna(axis=0, inplace=True)\n",
    "print('전체 샘플수 :', (len(data)))"
   ]
  },
  {
   "cell_type": "code",
   "execution_count": 9,
   "id": "united-definition",
   "metadata": {},
   "outputs": [
    {
     "name": "stdout",
     "output_type": "stream",
     "text": [
      "정규화 사전의 수:  120\n"
     ]
    }
   ],
   "source": [
    "contractions = {\"ain't\": \"is not\", \"aren't\": \"are not\",\"can't\": \"cannot\", \"'cause\": \"because\", \"could've\": \"could have\", \"couldn't\": \"could not\",\n",
    "                           \"didn't\": \"did not\",  \"doesn't\": \"does not\", \"don't\": \"do not\", \"hadn't\": \"had not\", \"hasn't\": \"has not\", \"haven't\": \"have not\",\n",
    "                           \"he'd\": \"he would\",\"he'll\": \"he will\", \"he's\": \"he is\", \"how'd\": \"how did\", \"how'd'y\": \"how do you\", \"how'll\": \"how will\", \"how's\": \"how is\",\n",
    "                           \"I'd\": \"I would\", \"I'd've\": \"I would have\", \"I'll\": \"I will\", \"I'll've\": \"I will have\",\"I'm\": \"I am\", \"I've\": \"I have\", \"i'd\": \"i would\",\n",
    "                           \"i'd've\": \"i would have\", \"i'll\": \"i will\",  \"i'll've\": \"i will have\",\"i'm\": \"i am\", \"i've\": \"i have\", \"isn't\": \"is not\", \"it'd\": \"it would\",\n",
    "                           \"it'd've\": \"it would have\", \"it'll\": \"it will\", \"it'll've\": \"it will have\",\"it's\": \"it is\", \"let's\": \"let us\", \"ma'am\": \"madam\",\n",
    "                           \"mayn't\": \"may not\", \"might've\": \"might have\",\"mightn't\": \"might not\",\"mightn't've\": \"might not have\", \"must've\": \"must have\",\n",
    "                           \"mustn't\": \"must not\", \"mustn't've\": \"must not have\", \"needn't\": \"need not\", \"needn't've\": \"need not have\",\"o'clock\": \"of the clock\",\n",
    "                           \"oughtn't\": \"ought not\", \"oughtn't've\": \"ought not have\", \"shan't\": \"shall not\", \"sha'n't\": \"shall not\", \"shan't've\": \"shall not have\",\n",
    "                           \"she'd\": \"she would\", \"she'd've\": \"she would have\", \"she'll\": \"she will\", \"she'll've\": \"she will have\", \"she's\": \"she is\",\n",
    "                           \"should've\": \"should have\", \"shouldn't\": \"should not\", \"shouldn't've\": \"should not have\", \"so've\": \"so have\",\"so's\": \"so as\",\n",
    "                           \"this's\": \"this is\",\"that'd\": \"that would\", \"that'd've\": \"that would have\", \"that's\": \"that is\", \"there'd\": \"there would\",\n",
    "                           \"there'd've\": \"there would have\", \"there's\": \"there is\", \"here's\": \"here is\",\"they'd\": \"they would\", \"they'd've\": \"they would have\",\n",
    "                           \"they'll\": \"they will\", \"they'll've\": \"they will have\", \"they're\": \"they are\", \"they've\": \"they have\", \"to've\": \"to have\",\n",
    "                           \"wasn't\": \"was not\", \"we'd\": \"we would\", \"we'd've\": \"we would have\", \"we'll\": \"we will\", \"we'll've\": \"we will have\", \"we're\": \"we are\",\n",
    "                           \"we've\": \"we have\", \"weren't\": \"were not\", \"what'll\": \"what will\", \"what'll've\": \"what will have\", \"what're\": \"what are\",\n",
    "                           \"what's\": \"what is\", \"what've\": \"what have\", \"when's\": \"when is\", \"when've\": \"when have\", \"where'd\": \"where did\", \"where's\": \"where is\",\n",
    "                           \"where've\": \"where have\", \"who'll\": \"who will\", \"who'll've\": \"who will have\", \"who's\": \"who is\", \"who've\": \"who have\",\n",
    "                           \"why's\": \"why is\", \"why've\": \"why have\", \"will've\": \"will have\", \"won't\": \"will not\", \"won't've\": \"will not have\",\n",
    "                           \"would've\": \"would have\", \"wouldn't\": \"would not\", \"wouldn't've\": \"would not have\", \"y'all\": \"you all\",\n",
    "                           \"y'all'd\": \"you all would\",\"y'all'd've\": \"you all would have\",\"y'all're\": \"you all are\",\"y'all've\": \"you all have\",\n",
    "                           \"you'd\": \"you would\", \"you'd've\": \"you would have\", \"you'll\": \"you will\", \"you'll've\": \"you will have\",\n",
    "                           \"you're\": \"you are\", \"you've\": \"you have\"}\n",
    "\n",
    "print(\"정규화 사전의 수: \", len(contractions))"
   ]
  },
  {
   "cell_type": "code",
   "execution_count": 10,
   "id": "vanilla-exclusive",
   "metadata": {},
   "outputs": [
    {
     "name": "stdout",
     "output_type": "stream",
     "text": [
      "불용어 개수 : 179\n",
      "['i', 'me', 'my', 'myself', 'we', 'our', 'ours', 'ourselves', 'you', \"you're\", \"you've\", \"you'll\", \"you'd\", 'your', 'yours', 'yourself', 'yourselves', 'he', 'him', 'his', 'himself', 'she', \"she's\", 'her', 'hers', 'herself', 'it', \"it's\", 'its', 'itself', 'they', 'them', 'their', 'theirs', 'themselves', 'what', 'which', 'who', 'whom', 'this', 'that', \"that'll\", 'these', 'those', 'am', 'is', 'are', 'was', 'were', 'be', 'been', 'being', 'have', 'has', 'had', 'having', 'do', 'does', 'did', 'doing', 'a', 'an', 'the', 'and', 'but', 'if', 'or', 'because', 'as', 'until', 'while', 'of', 'at', 'by', 'for', 'with', 'about', 'against', 'between', 'into', 'through', 'during', 'before', 'after', 'above', 'below', 'to', 'from', 'up', 'down', 'in', 'out', 'on', 'off', 'over', 'under', 'again', 'further', 'then', 'once', 'here', 'there', 'when', 'where', 'why', 'how', 'all', 'any', 'both', 'each', 'few', 'more', 'most', 'other', 'some', 'such', 'no', 'nor', 'not', 'only', 'own', 'same', 'so', 'than', 'too', 'very', 's', 't', 'can', 'will', 'just', 'don', \"don't\", 'should', \"should've\", 'now', 'd', 'll', 'm', 'o', 're', 've', 'y', 'ain', 'aren', \"aren't\", 'couldn', \"couldn't\", 'didn', \"didn't\", 'doesn', \"doesn't\", 'hadn', \"hadn't\", 'hasn', \"hasn't\", 'haven', \"haven't\", 'isn', \"isn't\", 'ma', 'mightn', \"mightn't\", 'mustn', \"mustn't\", 'needn', \"needn't\", 'shan', \"shan't\", 'shouldn', \"shouldn't\", 'wasn', \"wasn't\", 'weren', \"weren't\", 'won', \"won't\", 'wouldn', \"wouldn't\"]\n"
     ]
    }
   ],
   "source": [
    "print('불용어 개수 :', len(stopwords.words('english') ))\n",
    "print(stopwords.words('english'))"
   ]
  },
  {
   "cell_type": "code",
   "execution_count": 11,
   "id": "ruled-thickness",
   "metadata": {},
   "outputs": [],
   "source": [
    "# 데이터 전처리 함수\n",
    "def preprocess_sentence(sentence, remove_stopwords=True):\n",
    "    sentence = sentence.lower() # 텍스트 소문자화\n",
    "    sentence = BeautifulSoup(sentence, \"lxml\").text # <br />, <a href = ...> 등의 html 태그 제거\n",
    "    sentence = re.sub(r'\\([^)]*\\)', '', sentence) # 괄호로 닫힌 문자열 (...) 제거 Ex) my husband (and myself!) for => my husband for\n",
    "    sentence = re.sub('\"','', sentence) # 쌍따옴표 \" 제거\n",
    "    sentence = ' '.join([contractions[t] if t in contractions else t for t in sentence.split(\" \")]) # 약어 정규화\n",
    "    sentence = re.sub(r\"'s\\b\",\"\", sentence) # 소유격 제거. Ex) roland's -> roland\n",
    "    sentence = re.sub(\"[^a-zA-Z]\", \" \", sentence) # 영어 외 문자(숫자, 특수문자 등) 공백으로 변환\n",
    "    sentence = re.sub('[m]{2,}', 'mm', sentence) # m이 3개 이상이면 2개로 변경. Ex) ummmmmmm yeah -> umm yeah\n",
    "    \n",
    "    # 불용어 제거 (Text)\n",
    "    if remove_stopwords:\n",
    "        tokens = ' '.join(word for word in sentence.split() if not word in stopwords.words('english') if len(word) > 1)\n",
    "    # 불용어 미제거 (Summary)\n",
    "    else:\n",
    "        tokens = ' '.join(word for word in sentence.split() if len(word) > 1)\n",
    "    return tokens"
   ]
  },
  {
   "cell_type": "code",
   "execution_count": 12,
   "id": "southwest-necklace",
   "metadata": {},
   "outputs": [
    {
     "name": "stdout",
     "output_type": "stream",
     "text": [
      "everything bought great infact ordered twice third ordered wasfor mother father\n",
      "great way to start the day\n"
     ]
    }
   ],
   "source": [
    "temp_text = 'Everything I bought was great, infact I ordered twice and the third ordered was<br />for my mother and father.'\n",
    "temp_summary = 'Great way to start (or finish) the day!!!'\n",
    "\n",
    "print(preprocess_sentence(temp_text))\n",
    "print(preprocess_sentence(temp_summary, False))  # 불용어를 제거하지 않습니다."
   ]
  },
  {
   "cell_type": "code",
   "execution_count": 13,
   "id": "worst-person",
   "metadata": {},
   "outputs": [],
   "source": [
    "# clean_text = []\n",
    "# # 전체 Text 데이터에 대한 전처리 : 10분 이상 시간이 걸릴 수 있습니다. \n",
    "# for s in data['Text']:\n",
    "#     clean_text.append(preprocess_sentence(s))\n",
    "\n",
    "# # 전처리 후 출력\n",
    "# print(clean_text[:5])\n",
    "\n",
    "\n",
    "# clean_summary = []\n",
    "# # 전체 Summary 데이터에 대한 전처리 : 5분 이상 시간이 걸릴 수 있습니다. \n",
    "# for s in data['Summary']:\n",
    "#     clean_summary.append(preprocess_sentence(s, False))\n",
    "\n",
    "# print(clean_summary[:5])"
   ]
  },
  {
   "cell_type": "code",
   "execution_count": 14,
   "id": "simplified-davis",
   "metadata": {},
   "outputs": [
    {
     "name": "stdout",
     "output_type": "stream",
     "text": [
      "433.0381236076355  seconds\n",
      "['saurav kant alumnus upgrad iiit pg program machine learning artificial intelligence sr systems engineer infosys almost years work experience program upgrad degree career support helped transition data scientist tech mahindra salary hike upgrad online power learning powered lakh careers'\n",
      " 'kunal shah credit card bill payment platform cred gave users chance win free food swiggy one year pranav kaushik delhi techie bagged reward spending cred coins users get one cred coin per rupee bill paid used avail rewards brands like ixigo bookmyshow ubereats cult fit'\n",
      " 'new zealand defeated india wickets fourth odi hamilton thursday win first match five match odi series india lost international match rohit sharma captaincy consecutive victories dating back march match witnessed india getting seventh lowest total odi cricket history'\n",
      " ...\n",
      " 'according reports new version science fiction film matrix development michael jordan reportedly play lead role film screenwriter zak penn talks write script film reports added actor keanu reeves starred original film followed two sequels'\n",
      " 'new music video shows rapper snoop dogg aiming toy gun clown character parodying us president donald trump video also shows tv airing news conference headline ronald klump wants deport doggs airing live clown house video remixed version song lavender'\n",
      " 'madhesi morcha alliance seven political parties withdrawn support pm pushpa kamal dahal led nepal government failed meet seven day ultimatum fulfil demands including endorsement revised constitution amendment bill morcha seats parliament despite withdrawal support immediate threat government']\n",
      "12.58501410484314  seconds\n",
      "['upgrad learner switches to career in ml al with salary hike'\n",
      " 'delhi techie wins free food from swiggy for one year on cred'\n",
      " 'new zealand end rohit sharma led india match winning streak' ...\n",
      " 'the matrix film to get reboot reports'\n",
      " 'snoop dogg aims gun at clown dressed as trump in new video'\n",
      " 'madhesi morcha withdraws support to nepalese government']\n"
     ]
    }
   ],
   "source": [
    "import multiprocessing as mp   # 멀티 프로세싱으로 전처리 속도를 획기적으로 줄여봅시다\n",
    "from multiprocessing import Pool\n",
    "import numpy as np\n",
    "import time\n",
    "from functools import partial  # map을 할 때 함수에 여러 인자를 넣어줄 수 있도록 합니다\n",
    "\n",
    "start = time.time()\n",
    "\n",
    "# num_cores 만큼 쪼개진 데이터를 전처리하여 반환합니다\n",
    "def appendTexts(sentences, remove_stopwords):\n",
    "    texts = []\n",
    "    for s in sentences:\n",
    "        texts += preprocess_sentence(s, remove_stopwords),\n",
    "    return texts\n",
    "\n",
    "def preprocess_data(data, remove_stopwords=True):\n",
    "    start_time = time.time()\n",
    "    num_cores = mp.cpu_count()  # 컴퓨터의 코어 수를 구합니다\n",
    "\n",
    "    text_data_split = np.array_split(data, num_cores)  # 코어 수만큼 데이터를 배분하여 병렬적으로 처리할 수 있게 합니다\n",
    "    pool = Pool(num_cores)\n",
    "\n",
    "    processed_data = np.concatenate(pool.map(partial(appendTexts, remove_stopwords=remove_stopwords), text_data_split))  # 각자 작업한 데이터를 하나로 합쳐줍니다\n",
    "    pool.close()\n",
    "    pool.join()\n",
    "    print(time.time() - start_time, \" seconds\")\n",
    "    return processed_data\n",
    "\n",
    "clean_text = preprocess_data(data['text'])  # 클라우드 기준으로 3~4분 정도 소요 됩니다\n",
    "print(clean_text)\n",
    "\n",
    "clean_summary = preprocess_data(data['headlines'], remove_stopwords=False) # 클라우드 기준 1분정도 소요됩니다.\n",
    "print(clean_summary)"
   ]
  },
  {
   "cell_type": "code",
   "execution_count": 15,
   "id": "paperback-economics",
   "metadata": {},
   "outputs": [],
   "source": [
    "data['text'] = clean_text\n",
    "data['headlines'] = clean_summary\n",
    "\n",
    "# 빈 값을 Null 값으로 변환\n",
    "data.replace('', np.nan, inplace=True)"
   ]
  },
  {
   "cell_type": "code",
   "execution_count": 16,
   "id": "floppy-klein",
   "metadata": {},
   "outputs": [
    {
     "data": {
      "text/plain": [
       "headlines    0\n",
       "text         0\n",
       "dtype: int64"
      ]
     },
     "execution_count": 16,
     "metadata": {},
     "output_type": "execute_result"
    }
   ],
   "source": [
    "data.isnull().sum()"
   ]
  },
  {
   "cell_type": "code",
   "execution_count": 17,
   "id": "violent-vertex",
   "metadata": {},
   "outputs": [
    {
     "name": "stdout",
     "output_type": "stream",
     "text": [
      "전체 샘플수 : 98360\n"
     ]
    }
   ],
   "source": [
    "data.dropna(axis=0, inplace=True)\n",
    "print('전체 샘플수 :', (len(data)))"
   ]
  },
  {
   "cell_type": "code",
   "execution_count": 18,
   "id": "freelance-torture",
   "metadata": {},
   "outputs": [
    {
     "name": "stdout",
     "output_type": "stream",
     "text": [
      "텍스트의 최소 길이 : 1\n",
      "텍스트의 최대 길이 : 60\n",
      "텍스트의 평균 길이 : 35.09968483123221\n",
      "요약의 최소 길이 : 1\n",
      "요약의 최대 길이 : 16\n",
      "요약의 평균 길이 : 9.299532330215534\n"
     ]
    },
    {
     "data": {
      "image/png": "[encoded data removed]",
      "text/plain": [
       "<Figure size 432x288 with 2 Axes>"
      ]
     },
     "metadata": {
      "needs_background": "light"
     },
     "output_type": "display_data"
    },
    {
     "data": {
      "image/png": "[encoded data removed]",
      "text/plain": [
       "<Figure size 432x288 with 1 Axes>"
      ]
     },
     "metadata": {
      "needs_background": "light"
     },
     "output_type": "display_data"
    },
    {
     "data": {
      "image/png": "[encoded data removed]",
      "text/plain": [
       "<Figure size 432x288 with 1 Axes>"
      ]
     },
     "metadata": {
      "needs_background": "light"
     },
     "output_type": "display_data"
    }
   ],
   "source": [
    "# 길이 분포 출력\n",
    "import matplotlib.pyplot as plt\n",
    "\n",
    "text_len = [len(s.split()) for s in data['text']]\n",
    "summary_len = [len(s.split()) for s in data['headlines']]\n",
    "\n",
    "print('텍스트의 최소 길이 : {}'.format(np.min(text_len)))\n",
    "print('텍스트의 최대 길이 : {}'.format(np.max(text_len)))\n",
    "print('텍스트의 평균 길이 : {}'.format(np.mean(text_len)))\n",
    "print('요약의 최소 길이 : {}'.format(np.min(summary_len)))\n",
    "print('요약의 최대 길이 : {}'.format(np.max(summary_len)))\n",
    "print('요약의 평균 길이 : {}'.format(np.mean(summary_len)))\n",
    "\n",
    "plt.subplot(1,2,1)\n",
    "plt.boxplot(text_len)\n",
    "plt.title('text')\n",
    "plt.subplot(1,2,2)\n",
    "plt.boxplot(summary_len)\n",
    "plt.title('headlines')\n",
    "plt.tight_layout()\n",
    "plt.show()\n",
    "\n",
    "plt.title('text')\n",
    "plt.hist(text_len, bins = 40)\n",
    "plt.xlabel('length of samples')\n",
    "plt.ylabel('number of samples')\n",
    "plt.show()\n",
    "\n",
    "plt.title('headlines')\n",
    "plt.hist(summary_len, bins = 40)\n",
    "plt.xlabel('length of samples')\n",
    "plt.ylabel('number of samples')\n",
    "plt.show()"
   ]
  },
  {
   "cell_type": "code",
   "execution_count": 19,
   "id": "engaging-niger",
   "metadata": {},
   "outputs": [],
   "source": [
    "text_max_len = 41\n",
    "summary_max_len = 11"
   ]
  },
  {
   "cell_type": "code",
   "execution_count": 20,
   "id": "biblical-minneapolis",
   "metadata": {},
   "outputs": [],
   "source": [
    "def below_threshold_len(max_len, nested_list):\n",
    "    cnt = 0\n",
    "    for s in nested_list:\n",
    "        if(len(s.split()) <= max_len):\n",
    "            cnt = cnt + 1\n",
    "    print('전체 샘플 중 길이가 %s 이하인 샘플의 비율: %s'%(max_len, (cnt / len(nested_list))))\n"
   ]
  },
  {
   "cell_type": "code",
   "execution_count": 21,
   "id": "leading-justice",
   "metadata": {},
   "outputs": [
    {
     "name": "stdout",
     "output_type": "stream",
     "text": [
      "전체 샘플 중 길이가 41 이하인 샘플의 비율: 0.9549613664091094\n",
      "전체 샘플 중 길이가 11 이하인 샘플의 비율: 0.9449877999186661\n"
     ]
    }
   ],
   "source": [
    "below_threshold_len(text_max_len, data['text'])\n",
    "below_threshold_len(summary_max_len,  data['headlines'])"
   ]
  },
  {
   "cell_type": "code",
   "execution_count": 22,
   "id": "continental-cameroon",
   "metadata": {},
   "outputs": [
    {
     "name": "stdout",
     "output_type": "stream",
     "text": [
      "전체 샘플수 : 88749\n"
     ]
    }
   ],
   "source": [
    "data = data[data['text'].apply(lambda x: len(x.split()) <= text_max_len)]\n",
    "data = data[data['headlines'].apply(lambda x: len(x.split()) <= summary_max_len)]\n",
    "print('전체 샘플수 :', (len(data)))"
   ]
  },
  {
   "cell_type": "code",
   "execution_count": 23,
   "id": "authentic-exchange",
   "metadata": {},
   "outputs": [
    {
     "data": {
      "text/html": [
       "<div>\n",
       "<style scoped>\n",
       "    .dataframe tbody tr th:only-of-type {\n",
       "        vertical-align: middle;\n",
       "    }\n",
       "\n",
       "    .dataframe tbody tr th {\n",
       "        vertical-align: top;\n",
       "    }\n",
       "\n",
       "    .dataframe thead th {\n",
       "        text-align: right;\n",
       "    }\n",
       "</style>\n",
       "<table border=\"1\" class=\"dataframe\">\n",
       "  <thead>\n",
       "    <tr style=\"text-align: right;\">\n",
       "      <th></th>\n",
       "      <th>headlines</th>\n",
       "      <th>text</th>\n",
       "      <th>decoder_input</th>\n",
       "      <th>decoder_target</th>\n",
       "    </tr>\n",
       "  </thead>\n",
       "  <tbody>\n",
       "    <tr>\n",
       "      <th>0</th>\n",
       "      <td>upgrad learner switches to career in ml al wit...</td>\n",
       "      <td>saurav kant alumnus upgrad iiit pg program mac...</td>\n",
       "      <td>sostoken upgrad learner switches to career in ...</td>\n",
       "      <td>upgrad learner switches to career in ml al wit...</td>\n",
       "    </tr>\n",
       "    <tr>\n",
       "      <th>2</th>\n",
       "      <td>new zealand end rohit sharma led india match w...</td>\n",
       "      <td>new zealand defeated india wickets fourth odi ...</td>\n",
       "      <td>sostoken new zealand end rohit sharma led indi...</td>\n",
       "      <td>new zealand end rohit sharma led india match w...</td>\n",
       "    </tr>\n",
       "    <tr>\n",
       "      <th>3</th>\n",
       "      <td>aegon life iterm insurance plan helps customer...</td>\n",
       "      <td>aegon life iterm insurance plan customers enjo...</td>\n",
       "      <td>sostoken aegon life iterm insurance plan helps...</td>\n",
       "      <td>aegon life iterm insurance plan helps customer...</td>\n",
       "    </tr>\n",
       "    <tr>\n",
       "      <th>5</th>\n",
       "      <td>rahat fateh ali khan denies getting notice for...</td>\n",
       "      <td>pakistani singer rahat fateh ali khan denied r...</td>\n",
       "      <td>sostoken rahat fateh ali khan denies getting n...</td>\n",
       "      <td>rahat fateh ali khan denies getting notice for...</td>\n",
       "    </tr>\n",
       "    <tr>\n",
       "      <th>7</th>\n",
       "      <td>govt directs alok verma to join work day befor...</td>\n",
       "      <td>weeks ex cbi director alok verma told departme...</td>\n",
       "      <td>sostoken govt directs alok verma to join work ...</td>\n",
       "      <td>govt directs alok verma to join work day befor...</td>\n",
       "    </tr>\n",
       "  </tbody>\n",
       "</table>\n",
       "</div>"
      ],
      "text/plain": [
       "                                           headlines  \\\n",
       "0  upgrad learner switches to career in ml al wit...   \n",
       "2  new zealand end rohit sharma led india match w...   \n",
       "3  aegon life iterm insurance plan helps customer...   \n",
       "5  rahat fateh ali khan denies getting notice for...   \n",
       "7  govt directs alok verma to join work day befor...   \n",
       "\n",
       "                                                text  \\\n",
       "0  saurav kant alumnus upgrad iiit pg program mac...   \n",
       "2  new zealand defeated india wickets fourth odi ...   \n",
       "3  aegon life iterm insurance plan customers enjo...   \n",
       "5  pakistani singer rahat fateh ali khan denied r...   \n",
       "7  weeks ex cbi director alok verma told departme...   \n",
       "\n",
       "                                       decoder_input  \\\n",
       "0  sostoken upgrad learner switches to career in ...   \n",
       "2  sostoken new zealand end rohit sharma led indi...   \n",
       "3  sostoken aegon life iterm insurance plan helps...   \n",
       "5  sostoken rahat fateh ali khan denies getting n...   \n",
       "7  sostoken govt directs alok verma to join work ...   \n",
       "\n",
       "                                      decoder_target  \n",
       "0  upgrad learner switches to career in ml al wit...  \n",
       "2  new zealand end rohit sharma led india match w...  \n",
       "3  aegon life iterm insurance plan helps customer...  \n",
       "5  rahat fateh ali khan denies getting notice for...  \n",
       "7  govt directs alok verma to join work day befor...  "
      ]
     },
     "execution_count": 23,
     "metadata": {},
     "output_type": "execute_result"
    }
   ],
   "source": [
    "# 요약 데이터에는 시작 토큰과 종료 토큰을 추가한다.\n",
    "data['decoder_input'] = data['headlines'].apply(lambda x : 'sostoken '+ x)\n",
    "data['decoder_target'] = data['headlines'].apply(lambda x : x + ' eostoken')\n",
    "data.head()"
   ]
  },
  {
   "cell_type": "code",
   "execution_count": 24,
   "id": "pacific-equality",
   "metadata": {},
   "outputs": [],
   "source": [
    "encoder_input = np.array(data['text']) # 인코더의 입력\n",
    "decoder_input = np.array(data['decoder_input']) # 디코더의 입력\n",
    "decoder_target = np.array(data['decoder_target']) # 디코더의 레이블"
   ]
  },
  {
   "cell_type": "code",
   "execution_count": 25,
   "id": "hourly-comedy",
   "metadata": {},
   "outputs": [
    {
     "name": "stdout",
     "output_type": "stream",
     "text": [
      "[48950 46319  5570 ... 83872 84488 87565]\n"
     ]
    }
   ],
   "source": [
    "indices = np.arange(encoder_input.shape[0])\n",
    "np.random.shuffle(indices)\n",
    "print(indices)"
   ]
  },
  {
   "cell_type": "code",
   "execution_count": 26,
   "id": "rubber-buying",
   "metadata": {},
   "outputs": [],
   "source": [
    "encoder_input = encoder_input[indices]\n",
    "decoder_input = decoder_input[indices]\n",
    "decoder_target = decoder_target[indices]"
   ]
  },
  {
   "cell_type": "code",
   "execution_count": 27,
   "id": "filled-inspiration",
   "metadata": {},
   "outputs": [
    {
     "name": "stdout",
     "output_type": "stream",
     "text": [
      "테스트 데이터의 수 : 17749\n"
     ]
    }
   ],
   "source": [
    "n_of_val = int(len(encoder_input)*0.2)\n",
    "print('테스트 데이터의 수 :', n_of_val)"
   ]
  },
  {
   "cell_type": "code",
   "execution_count": 28,
   "id": "electrical-shoulder",
   "metadata": {},
   "outputs": [
    {
     "name": "stdout",
     "output_type": "stream",
     "text": [
      "훈련 데이터의 개수 : 71000\n",
      "훈련 레이블의 개수 : 71000\n",
      "테스트 데이터의 개수 : 17749\n",
      "테스트 레이블의 개수 : 17749\n"
     ]
    }
   ],
   "source": [
    "encoder_input_train = encoder_input[:-n_of_val]\n",
    "decoder_input_train = decoder_input[:-n_of_val]\n",
    "decoder_target_train = decoder_target[:-n_of_val]\n",
    "\n",
    "encoder_input_test = encoder_input[-n_of_val:]\n",
    "decoder_input_test = decoder_input[-n_of_val:]\n",
    "decoder_target_test = decoder_target[-n_of_val:]\n",
    "\n",
    "print('훈련 데이터의 개수 :', len(encoder_input_train))\n",
    "print('훈련 레이블의 개수 :', len(decoder_input_train))\n",
    "print('테스트 데이터의 개수 :', len(encoder_input_test))\n",
    "print('테스트 레이블의 개수 :', len(decoder_input_test))"
   ]
  },
  {
   "cell_type": "code",
   "execution_count": 29,
   "id": "blank-bankruptcy",
   "metadata": {},
   "outputs": [],
   "source": [
    "src_tokenizer = Tokenizer() # 토크나이저 정의\n",
    "src_tokenizer.fit_on_texts(encoder_input_train) # 입력된 데이터로부터 단어 집합 생성"
   ]
  },
  {
   "cell_type": "code",
   "execution_count": 30,
   "id": "twenty-zealand",
   "metadata": {},
   "outputs": [
    {
     "name": "stdout",
     "output_type": "stream",
     "text": [
      "단어 집합(vocabulary)의 크기 : 65989\n",
      "등장 빈도가 7번 이하인 희귀 단어의 수: 46464\n",
      "단어 집합에서 희귀 단어를 제외시킬 경우의 단어 집합의 크기 19525\n",
      "단어 집합에서 희귀 단어의 비율: 70.41173528921487\n",
      "전체 등장 빈도에서 희귀 단어 등장 빈도 비율: 4.120538687509602\n"
     ]
    }
   ],
   "source": [
    "threshold = 8\n",
    "total_cnt = len(src_tokenizer.word_index) # 단어의 수\n",
    "rare_cnt = 0 # 등장 빈도수가 threshold보다 작은 단어의 개수를 카운트\n",
    "total_freq = 0 # 훈련 데이터의 전체 단어 빈도수 총 합\n",
    "rare_freq = 0 # 등장 빈도수가 threshold보다 작은 단어의 등장 빈도수의 총 합\n",
    "\n",
    "# 단어와 빈도수의 쌍(pair)을 key와 value로 받는다.\n",
    "for key, value in src_tokenizer.word_counts.items():\n",
    "    total_freq = total_freq + value\n",
    "\n",
    "    # 단어의 등장 빈도수가 threshold보다 작으면\n",
    "    if(value < threshold):\n",
    "        rare_cnt = rare_cnt + 1\n",
    "        rare_freq = rare_freq + value\n",
    "\n",
    "print('단어 집합(vocabulary)의 크기 :', total_cnt)\n",
    "print('등장 빈도가 %s번 이하인 희귀 단어의 수: %s'%(threshold - 1, rare_cnt))\n",
    "print('단어 집합에서 희귀 단어를 제외시킬 경우의 단어 집합의 크기 %s'%(total_cnt - rare_cnt))\n",
    "print(\"단어 집합에서 희귀 단어의 비율:\", (rare_cnt / total_cnt)*100)\n",
    "print(\"전체 등장 빈도에서 희귀 단어 등장 빈도 비율:\", (rare_freq / total_freq)*100)"
   ]
  },
  {
   "cell_type": "code",
   "execution_count": 31,
   "id": "failing-above",
   "metadata": {},
   "outputs": [],
   "source": [
    "src_vocab = 20000\n",
    "src_tokenizer = Tokenizer(num_words=src_vocab) # 단어 집합의 크기를 8,000으로 제한\n",
    "src_tokenizer.fit_on_texts(encoder_input_train) # 단어 집합 재생성"
   ]
  },
  {
   "cell_type": "code",
   "execution_count": 32,
   "id": "conventional-caution",
   "metadata": {},
   "outputs": [
    {
     "name": "stdout",
     "output_type": "stream",
     "text": [
      "[[5563, 2388, 1359, 281, 289, 4430, 281, 942, 5959, 2769, 69, 193, 441, 909, 646, 46, 29, 1359, 281, 289, 819, 1146, 169, 2822, 7170, 1468, 69, 2246, 646, 29, 4, 8887, 495, 651, 10, 528], [96, 376, 11427, 7171, 63, 2247, 1180, 1656, 1984, 4151, 1192, 3117, 652, 96, 63, 2247, 1714, 18387, 897, 3117, 16549, 5, 29, 1], [515, 274, 77, 1183, 99, 4795, 2890, 59, 1, 39, 5564, 9, 515, 274, 1560, 2619, 61, 313, 47, 4661, 1084, 173, 256, 168, 9, 6023, 419, 39, 119, 89, 363, 1204, 39, 2890, 4]]\n"
     ]
    }
   ],
   "source": [
    "# 텍스트 시퀀스를 정수 시퀀스로 변환\n",
    "encoder_input_train = src_tokenizer.texts_to_sequences(encoder_input_train) \n",
    "encoder_input_test = src_tokenizer.texts_to_sequences(encoder_input_test)\n",
    "\n",
    "# 잘 진행되었는지 샘플 출력\n",
    "print(encoder_input_train[:3])"
   ]
  },
  {
   "cell_type": "code",
   "execution_count": 33,
   "id": "subsequent-layer",
   "metadata": {},
   "outputs": [],
   "source": [
    "tar_tokenizer = Tokenizer()\n",
    "tar_tokenizer.fit_on_texts(decoder_input_train)"
   ]
  },
  {
   "cell_type": "code",
   "execution_count": 34,
   "id": "comfortable-numbers",
   "metadata": {},
   "outputs": [
    {
     "name": "stdout",
     "output_type": "stream",
     "text": [
      "단어 집합(vocabulary)의 크기 : 28947\n",
      "등장 빈도가 4번 이하인 희귀 단어의 수: 17885\n",
      "단어 집합에서 희귀 단어를 제외시킬 경우의 단어 집합의 크기 11062\n",
      "단어 집합에서 희귀 단어의 비율: 61.785331813313995\n",
      "전체 등장 빈도에서 희귀 단어 등장 빈도 비율: 4.269408806151176\n"
     ]
    }
   ],
   "source": [
    "threshold = 5\n",
    "total_cnt = len(tar_tokenizer.word_index) # 단어의 수\n",
    "rare_cnt = 0 # 등장 빈도수가 threshold보다 작은 단어의 개수를 카운트\n",
    "total_freq = 0 # 훈련 데이터의 전체 단어 빈도수 총 합\n",
    "rare_freq = 0 # 등장 빈도수가 threshold보다 작은 단어의 등장 빈도수의 총 합\n",
    "\n",
    "# 단어와 빈도수의 쌍(pair)을 key와 value로 받는다.\n",
    "for key, value in tar_tokenizer.word_counts.items():\n",
    "    total_freq = total_freq + value\n",
    "\n",
    "    # 단어의 등장 빈도수가 threshold보다 작으면\n",
    "    if(value < threshold):\n",
    "        rare_cnt = rare_cnt + 1\n",
    "        rare_freq = rare_freq + value\n",
    "\n",
    "print('단어 집합(vocabulary)의 크기 :', total_cnt)\n",
    "print('등장 빈도가 %s번 이하인 희귀 단어의 수: %s'%(threshold - 1, rare_cnt))\n",
    "print('단어 집합에서 희귀 단어를 제외시킬 경우의 단어 집합의 크기 %s'%(total_cnt - rare_cnt))\n",
    "print(\"단어 집합에서 희귀 단어의 비율:\", (rare_cnt / total_cnt)*100)\n",
    "print(\"전체 등장 빈도에서 희귀 단어 등장 빈도 비율:\", (rare_freq / total_freq)*100)"
   ]
  },
  {
   "cell_type": "code",
   "execution_count": 35,
   "id": "civic-smooth",
   "metadata": {},
   "outputs": [
    {
     "name": "stdout",
     "output_type": "stream",
     "text": [
      "input\n",
      "input  [[1, 3942, 1469, 316, 24, 3, 183, 5, 39, 586, 540, 33], [1, 2006, 1878, 13, 1879, 4046], [1, 34, 74, 4356, 62, 6, 1942, 48, 444, 1533, 3013], [1, 2108, 6790, 4208, 13, 222, 3, 317, 3158, 4], [1, 1979, 438, 597, 37, 9068, 14, 277, 1797, 33]]\n",
      "target\n",
      "decoder  [[3942, 1469, 316, 24, 3, 183, 5, 39, 586, 540, 33, 2], [2006, 1878, 13, 1879, 4046, 2], [34, 74, 4356, 62, 6, 1942, 48, 444, 1533, 3013, 2], [2108, 6790, 4208, 13, 222, 3, 317, 3158, 4, 2], [1979, 438, 597, 37, 9068, 14, 277, 1797, 33, 2]]\n"
     ]
    }
   ],
   "source": [
    "tar_vocab = 11000\n",
    "tar_tokenizer = Tokenizer(num_words=tar_vocab) \n",
    "tar_tokenizer.fit_on_texts(decoder_input_train)\n",
    "tar_tokenizer.fit_on_texts(decoder_target_train)\n",
    "\n",
    "# 텍스트 시퀀스를 정수 시퀀스로 변환\n",
    "decoder_input_train = tar_tokenizer.texts_to_sequences(decoder_input_train) \n",
    "decoder_target_train = tar_tokenizer.texts_to_sequences(decoder_target_train)\n",
    "decoder_input_test = tar_tokenizer.texts_to_sequences(decoder_input_test)\n",
    "decoder_target_test = tar_tokenizer.texts_to_sequences(decoder_target_test)\n",
    "\n",
    "# 잘 변환되었는지 확인\n",
    "print('input')\n",
    "print('input ',decoder_input_train[:5])\n",
    "print('target')\n",
    "print('decoder ',decoder_target_train[:5])"
   ]
  },
  {
   "cell_type": "code",
   "execution_count": 36,
   "id": "peaceful-security",
   "metadata": {},
   "outputs": [
    {
     "name": "stdout",
     "output_type": "stream",
     "text": [
      "삭제할 훈련 데이터의 개수 : 0\n",
      "삭제할 테스트 데이터의 개수 : 0\n",
      "훈련 데이터의 개수 : 71000\n",
      "훈련 레이블의 개수 : 71000\n",
      "테스트 데이터의 개수 : 17749\n",
      "테스트 레이블의 개수 : 17749\n"
     ]
    }
   ],
   "source": [
    "drop_train = [index for index, sentence in enumerate(decoder_input_train) if len(sentence) == 1]\n",
    "drop_test = [index for index, sentence in enumerate(decoder_input_test) if len(sentence) == 1]\n",
    "\n",
    "print('삭제할 훈련 데이터의 개수 :', len(drop_train))\n",
    "print('삭제할 테스트 데이터의 개수 :', len(drop_test))\n",
    "\n",
    "encoder_input_train = np.delete(encoder_input_train, drop_train, axis=0)\n",
    "decoder_input_train = np.delete(decoder_input_train, drop_train, axis=0)\n",
    "decoder_target_train = np.delete(decoder_target_train, drop_train, axis=0)\n",
    "\n",
    "encoder_input_test = np.delete(encoder_input_test, drop_test, axis=0)\n",
    "decoder_input_test = np.delete(decoder_input_test, drop_test, axis=0)\n",
    "decoder_target_test = np.delete(decoder_target_test, drop_test, axis=0)\n",
    "\n",
    "print('훈련 데이터의 개수 :', len(encoder_input_train))\n",
    "print('훈련 레이블의 개수 :', len(decoder_input_train))\n",
    "print('테스트 데이터의 개수 :', len(encoder_input_test))\n",
    "print('테스트 레이블의 개수 :', len(decoder_input_test))"
   ]
  },
  {
   "cell_type": "code",
   "execution_count": 37,
   "id": "valued-curtis",
   "metadata": {},
   "outputs": [],
   "source": [
    "encoder_input_train = pad_sequences(encoder_input_train, maxlen=text_max_len, padding='post')\n",
    "encoder_input_test = pad_sequences(encoder_input_test, maxlen=text_max_len, padding='post')\n",
    "decoder_input_train = pad_sequences(decoder_input_train, maxlen=summary_max_len, padding='post')\n",
    "decoder_target_train = pad_sequences(decoder_target_train, maxlen=summary_max_len, padding='post')\n",
    "decoder_input_test = pad_sequences(decoder_input_test, maxlen=summary_max_len, padding='post')\n",
    "decoder_target_test = pad_sequences(decoder_target_test, maxlen=summary_max_len, padding='post')"
   ]
  },
  {
   "cell_type": "code",
   "execution_count": 38,
   "id": "angry-power",
   "metadata": {},
   "outputs": [
    {
     "name": "stdout",
     "output_type": "stream",
     "text": [
      "WARNING:tensorflow:Layer lstm will not use cuDNN kernel since it doesn't meet the cuDNN kernel criteria. It will use generic GPU kernel as fallback when running on GPU\n",
      "WARNING:tensorflow:Layer lstm_1 will not use cuDNN kernel since it doesn't meet the cuDNN kernel criteria. It will use generic GPU kernel as fallback when running on GPU\n",
      "WARNING:tensorflow:Layer lstm_2 will not use cuDNN kernel since it doesn't meet the cuDNN kernel criteria. It will use generic GPU kernel as fallback when running on GPU\n"
     ]
    }
   ],
   "source": [
    "# 인코더 설계 시작\n",
    "embedding_dim = 128\n",
    "hidden_size = 256\n",
    "\n",
    "# 인코더\n",
    "encoder_inputs = Input(shape=(text_max_len,))\n",
    "\n",
    "# 인코더의 임베딩 층\n",
    "enc_emb = Embedding(src_vocab, embedding_dim)(encoder_inputs)\n",
    "\n",
    "# 인코더의 LSTM 1\n",
    "encoder_lstm1 = LSTM(hidden_size, return_sequences=True, return_state=True ,dropout = 0.4, recurrent_dropout = 0.4)\n",
    "encoder_output1, state_h1, state_c1 = encoder_lstm1(enc_emb)\n",
    "\n",
    "# 인코더의 LSTM 2\n",
    "encoder_lstm2 = LSTM(hidden_size, return_sequences=True, return_state=True, dropout=0.4, recurrent_dropout=0.4)\n",
    "encoder_output2, state_h2, state_c2 = encoder_lstm2(encoder_output1)\n",
    "\n",
    "# 인코더의 LSTM 3\n",
    "encoder_lstm3 = LSTM(hidden_size, return_state=True, return_sequences=True, dropout=0.4, recurrent_dropout=0.4)\n",
    "encoder_outputs, state_h, state_c= encoder_lstm3(encoder_output2)"
   ]
  },
  {
   "cell_type": "code",
   "execution_count": 39,
   "id": "brazilian-colleague",
   "metadata": {},
   "outputs": [
    {
     "name": "stdout",
     "output_type": "stream",
     "text": [
      "WARNING:tensorflow:Layer lstm_3 will not use cuDNN kernel since it doesn't meet the cuDNN kernel criteria. It will use generic GPU kernel as fallback when running on GPU\n"
     ]
    }
   ],
   "source": [
    "# 디코더 설계\n",
    "decoder_inputs = Input(shape=(None,))\n",
    "\n",
    "# 디코더의 임베딩 층\n",
    "dec_emb_layer = Embedding(tar_vocab, embedding_dim)\n",
    "dec_emb = dec_emb_layer(decoder_inputs)\n",
    "\n",
    "# 디코더의 LSTM\n",
    "decoder_lstm = LSTM(hidden_size, return_sequences=True, return_state=True, dropout=0.4, recurrent_dropout=0.2)\n",
    "decoder_outputs, _, _ = decoder_lstm(dec_emb, initial_state=[state_h, state_c])"
   ]
  },
  {
   "cell_type": "code",
   "execution_count": 40,
   "id": "joint-wrong",
   "metadata": {},
   "outputs": [
    {
     "name": "stdout",
     "output_type": "stream",
     "text": [
      "Model: \"model\"\n",
      "__________________________________________________________________________________________________\n",
      "Layer (type)                    Output Shape         Param #     Connected to                     \n",
      "==================================================================================================\n",
      "input_1 (InputLayer)            [(None, 41)]         0                                            \n",
      "__________________________________________________________________________________________________\n",
      "embedding (Embedding)           (None, 41, 128)      2560000     input_1[0][0]                    \n",
      "__________________________________________________________________________________________________\n",
      "lstm (LSTM)                     [(None, 41, 256), (N 394240      embedding[0][0]                  \n",
      "__________________________________________________________________________________________________\n",
      "input_2 (InputLayer)            [(None, None)]       0                                            \n",
      "__________________________________________________________________________________________________\n",
      "lstm_1 (LSTM)                   [(None, 41, 256), (N 525312      lstm[0][0]                       \n",
      "__________________________________________________________________________________________________\n",
      "embedding_1 (Embedding)         (None, None, 128)    1408000     input_2[0][0]                    \n",
      "__________________________________________________________________________________________________\n",
      "lstm_2 (LSTM)                   [(None, 41, 256), (N 525312      lstm_1[0][0]                     \n",
      "__________________________________________________________________________________________________\n",
      "lstm_3 (LSTM)                   [(None, None, 256),  394240      embedding_1[0][0]                \n",
      "                                                                 lstm_2[0][1]                     \n",
      "                                                                 lstm_2[0][2]                     \n",
      "__________________________________________________________________________________________________\n",
      "dense (Dense)                   (None, None, 11000)  2827000     lstm_3[0][0]                     \n",
      "==================================================================================================\n",
      "Total params: 8,634,104\n",
      "Trainable params: 8,634,104\n",
      "Non-trainable params: 0\n",
      "__________________________________________________________________________________________________\n"
     ]
    }
   ],
   "source": [
    "# 디코더의 출력층\n",
    "decoder_softmax_layer = Dense(tar_vocab, activation='softmax')\n",
    "decoder_softmax_outputs = decoder_softmax_layer(decoder_outputs) \n",
    "\n",
    "# 모델 정의\n",
    "model = Model([encoder_inputs, decoder_inputs], decoder_softmax_outputs)\n",
    "model.summary()"
   ]
  },
  {
   "cell_type": "code",
   "execution_count": 41,
   "id": "filled-sunrise",
   "metadata": {},
   "outputs": [],
   "source": [
    "urllib.request.urlretrieve(\"https://raw.githubusercontent.com/thushv89/attention_keras/master/src/layers/attention.py\", filename=\"attention.py\")\n",
    "from attention import AttentionLayer"
   ]
  },
  {
   "cell_type": "code",
   "execution_count": 42,
   "id": "accredited-sewing",
   "metadata": {},
   "outputs": [
    {
     "name": "stdout",
     "output_type": "stream",
     "text": [
      "Model: \"model_1\"\n",
      "__________________________________________________________________________________________________\n",
      "Layer (type)                    Output Shape         Param #     Connected to                     \n",
      "==================================================================================================\n",
      "input_1 (InputLayer)            [(None, 41)]         0                                            \n",
      "__________________________________________________________________________________________________\n",
      "embedding (Embedding)           (None, 41, 128)      2560000     input_1[0][0]                    \n",
      "__________________________________________________________________________________________________\n",
      "lstm (LSTM)                     [(None, 41, 256), (N 394240      embedding[0][0]                  \n",
      "__________________________________________________________________________________________________\n",
      "input_2 (InputLayer)            [(None, None)]       0                                            \n",
      "__________________________________________________________________________________________________\n",
      "lstm_1 (LSTM)                   [(None, 41, 256), (N 525312      lstm[0][0]                       \n",
      "__________________________________________________________________________________________________\n",
      "embedding_1 (Embedding)         (None, None, 128)    1408000     input_2[0][0]                    \n",
      "__________________________________________________________________________________________________\n",
      "lstm_2 (LSTM)                   [(None, 41, 256), (N 525312      lstm_1[0][0]                     \n",
      "__________________________________________________________________________________________________\n",
      "lstm_3 (LSTM)                   [(None, None, 256),  394240      embedding_1[0][0]                \n",
      "                                                                 lstm_2[0][1]                     \n",
      "                                                                 lstm_2[0][2]                     \n",
      "__________________________________________________________________________________________________\n",
      "attention_layer (AttentionLayer ((None, None, 256),  131328      lstm_2[0][0]                     \n",
      "                                                                 lstm_3[0][0]                     \n",
      "__________________________________________________________________________________________________\n",
      "concat_layer (Concatenate)      (None, None, 512)    0           lstm_3[0][0]                     \n",
      "                                                                 attention_layer[0][0]            \n",
      "__________________________________________________________________________________________________\n",
      "dense_1 (Dense)                 (None, None, 11000)  5643000     concat_layer[0][0]               \n",
      "==================================================================================================\n",
      "Total params: 11,581,432\n",
      "Trainable params: 11,581,432\n",
      "Non-trainable params: 0\n",
      "__________________________________________________________________________________________________\n"
     ]
    }
   ],
   "source": [
    "# 어텐션 층(어텐션 함수)\n",
    "attn_layer = AttentionLayer(name='attention_layer')\n",
    "# 인코더와 디코더의 모든 time step의 hidden state를 어텐션 층에 전달하고 결과를 리턴\n",
    "attn_out, attn_states = attn_layer([encoder_outputs, decoder_outputs])\n",
    "\n",
    "# 어텐션의 결과와 디코더의 hidden state들을 연결\n",
    "decoder_concat_input = Concatenate(axis=-1, name='concat_layer')([decoder_outputs, attn_out])\n",
    "\n",
    "# 디코더의 출력층\n",
    "decoder_softmax_layer = Dense(tar_vocab, activation='softmax')\n",
    "decoder_softmax_outputs = decoder_softmax_layer(decoder_concat_input)\n",
    "\n",
    "# 모델 정의\n",
    "model = Model([encoder_inputs, decoder_inputs], decoder_softmax_outputs)\n",
    "model.summary()"
   ]
  },
  {
   "cell_type": "code",
   "execution_count": 43,
   "id": "supposed-shakespeare",
   "metadata": {},
   "outputs": [
    {
     "name": "stdout",
     "output_type": "stream",
     "text": [
      "Epoch 1/50\n",
      "278/278 [==============================] - 222s 754ms/step - loss: 6.4932 - val_loss: 5.6983\n",
      "Epoch 2/50\n",
      "278/278 [==============================] - 208s 747ms/step - loss: 5.6269 - val_loss: 5.3041\n",
      "Epoch 3/50\n",
      "278/278 [==============================] - 208s 748ms/step - loss: 5.2369 - val_loss: 5.0114\n",
      "Epoch 4/50\n",
      "278/278 [==============================] - 208s 748ms/step - loss: 4.9283 - val_loss: 4.8017\n",
      "Epoch 5/50\n",
      "278/278 [==============================] - 207s 745ms/step - loss: 4.6677 - val_loss: 4.6496\n",
      "Epoch 6/50\n",
      "278/278 [==============================] - 207s 745ms/step - loss: 4.4761 - val_loss: 4.5196\n",
      "Epoch 7/50\n",
      "278/278 [==============================] - 207s 745ms/step - loss: 4.3056 - val_loss: 4.4272\n",
      "Epoch 8/50\n",
      "278/278 [==============================] - 207s 745ms/step - loss: 4.1564 - val_loss: 4.3396\n",
      "Epoch 9/50\n",
      "278/278 [==============================] - 208s 748ms/step - loss: 4.0289 - val_loss: 4.2670\n",
      "Epoch 10/50\n",
      "278/278 [==============================] - 207s 745ms/step - loss: 3.9134 - val_loss: 4.2162\n",
      "Epoch 11/50\n",
      "278/278 [==============================] - 207s 745ms/step - loss: 3.8014 - val_loss: 4.1632\n",
      "Epoch 12/50\n",
      "278/278 [==============================] - 207s 745ms/step - loss: 3.7148 - val_loss: 4.1275\n",
      "Epoch 13/50\n",
      "278/278 [==============================] - 207s 745ms/step - loss: 3.6270 - val_loss: 4.0948\n",
      "Epoch 14/50\n",
      "278/278 [==============================] - 207s 745ms/step - loss: 3.5531 - val_loss: 4.0534\n",
      "Epoch 15/50\n",
      "278/278 [==============================] - 207s 746ms/step - loss: 3.4735 - val_loss: 4.0378\n",
      "Epoch 16/50\n",
      "278/278 [==============================] - 208s 747ms/step - loss: 3.4029 - val_loss: 4.0257\n",
      "Epoch 17/50\n",
      "278/278 [==============================] - 207s 745ms/step - loss: 3.3413 - val_loss: 3.9943\n",
      "Epoch 18/50\n",
      "278/278 [==============================] - 208s 748ms/step - loss: 3.2794 - val_loss: 3.9874\n",
      "Epoch 19/50\n",
      "278/278 [==============================] - 208s 747ms/step - loss: 3.2323 - val_loss: 3.9606\n",
      "Epoch 20/50\n",
      "278/278 [==============================] - 207s 745ms/step - loss: 3.1820 - val_loss: 3.9508\n",
      "Epoch 21/50\n",
      "278/278 [==============================] - 207s 746ms/step - loss: 3.1396 - val_loss: 3.9582\n",
      "Epoch 22/50\n",
      "278/278 [==============================] - 208s 747ms/step - loss: 3.0896 - val_loss: 3.9412\n",
      "Epoch 23/50\n",
      "278/278 [==============================] - 208s 748ms/step - loss: 3.0497 - val_loss: 3.9301\n",
      "Epoch 24/50\n",
      "278/278 [==============================] - 208s 748ms/step - loss: 3.0030 - val_loss: 3.9270\n",
      "Epoch 25/50\n",
      "278/278 [==============================] - 207s 745ms/step - loss: 2.9678 - val_loss: 3.9179\n",
      "Epoch 26/50\n",
      "278/278 [==============================] - 208s 747ms/step - loss: 2.9272 - val_loss: 3.9222\n",
      "Epoch 27/50\n",
      "278/278 [==============================] - 207s 746ms/step - loss: 2.8941 - val_loss: 3.9201\n",
      "Epoch 00027: early stopping\n"
     ]
    }
   ],
   "source": [
    "model.compile(optimizer='rmsprop', loss='sparse_categorical_crossentropy')\n",
    "es = EarlyStopping(monitor='val_loss', patience=2, verbose=1)\n",
    "history = model.fit(x=[encoder_input_train, decoder_input_train], y=decoder_target_train, \\\n",
    "          validation_data=([encoder_input_test, decoder_input_test], decoder_target_test), \\\n",
    "          batch_size=256, callbacks=[es], epochs=50)"
   ]
  },
  {
   "cell_type": "code",
   "execution_count": 44,
   "id": "anticipated-truck",
   "metadata": {},
   "outputs": [
    {
     "data": {
      "image/png": "[encoded data removed]",
      "text/plain": [
       "<Figure size 432x288 with 1 Axes>"
      ]
     },
     "metadata": {
      "needs_background": "light"
     },
     "output_type": "display_data"
    }
   ],
   "source": [
    "plt.plot(history.history['loss'], label='train')\n",
    "plt.plot(history.history['val_loss'], label='test')\n",
    "plt.legend()\n",
    "plt.show()"
   ]
  },
  {
   "cell_type": "code",
   "execution_count": 45,
   "id": "stunning-marble",
   "metadata": {},
   "outputs": [],
   "source": [
    "src_index_to_word = src_tokenizer.index_word # 원문 단어 집합에서 정수 -> 단어를 얻음\n",
    "tar_word_to_index = tar_tokenizer.word_index # 요약 단어 집합에서 단어 -> 정수를 얻음\n",
    "tar_index_to_word = tar_tokenizer.index_word # 요약 단어 집합에서 정수 -> 단어를 얻음"
   ]
  },
  {
   "cell_type": "code",
   "execution_count": 46,
   "id": "fiscal-firmware",
   "metadata": {},
   "outputs": [],
   "source": [
    "# 인코더 설계\n",
    "encoder_model = Model(inputs=encoder_inputs, outputs=[encoder_outputs, state_h, state_c])\n",
    "\n",
    "# 이전 시점의 상태들을 저장하는 텐서\n",
    "decoder_state_input_h = Input(shape=(hidden_size,))\n",
    "decoder_state_input_c = Input(shape=(hidden_size,))\n",
    "\n",
    "dec_emb2 = dec_emb_layer(decoder_inputs)\n",
    "\n",
    "# 문장의 다음 단어를 예측하기 위해서 초기 상태(initial_state)를 이전 시점의 상태로 사용. 이는 뒤의 함수 decode_sequence()에 구현\n",
    "# 훈련 과정에서와 달리 LSTM의 리턴하는 은닉 상태와 셀 상태인 state_h와 state_c를 버리지 않음.\n",
    "decoder_outputs2, state_h2, state_c2 = decoder_lstm(dec_emb2, initial_state=[decoder_state_input_h, decoder_state_input_c])"
   ]
  },
  {
   "cell_type": "code",
   "execution_count": 47,
   "id": "hydraulic-arrangement",
   "metadata": {},
   "outputs": [],
   "source": [
    "# 어텐션 함수\n",
    "decoder_hidden_state_input = Input(shape=(text_max_len, hidden_size))\n",
    "attn_out_inf, attn_states_inf = attn_layer([decoder_hidden_state_input, decoder_outputs2])\n",
    "decoder_inf_concat = Concatenate(axis=-1, name='concat')([decoder_outputs2, attn_out_inf])\n",
    "\n",
    "# 디코더의 출력층\n",
    "decoder_outputs2 = decoder_softmax_layer(decoder_inf_concat) \n",
    "\n",
    "# 최종 디코더 모델\n",
    "decoder_model = Model(\n",
    "    [decoder_inputs] + [decoder_hidden_state_input,decoder_state_input_h, decoder_state_input_c],\n",
    "    [decoder_outputs2] + [state_h2, state_c2])"
   ]
  },
  {
   "cell_type": "code",
   "execution_count": 48,
   "id": "liable-vinyl",
   "metadata": {},
   "outputs": [],
   "source": [
    "def decode_sequence(input_seq):\n",
    "    # 입력으로부터 인코더의 상태를 얻음\n",
    "    e_out, e_h, e_c = encoder_model.predict(input_seq)\n",
    "\n",
    "     # <SOS>에 해당하는 토큰 생성\n",
    "    target_seq = np.zeros((1,1))\n",
    "    target_seq[0, 0] = tar_word_to_index['sostoken']\n",
    "\n",
    "    stop_condition = False\n",
    "    decoded_sentence = ''\n",
    "    while not stop_condition: # stop_condition이 True가 될 때까지 루프 반복\n",
    "\n",
    "        output_tokens, h, c = decoder_model.predict([target_seq] + [e_out, e_h, e_c])\n",
    "        sampled_token_index = np.argmax(output_tokens[0, -1, :])\n",
    "        sampled_token = tar_index_to_word[sampled_token_index]\n",
    "\n",
    "        if (sampled_token!='eostoken'):\n",
    "            decoded_sentence += ' '+sampled_token\n",
    "\n",
    "        #  <eos>에 도달하거나 최대 길이를 넘으면 중단.\n",
    "        if (sampled_token == 'eostoken'  or len(decoded_sentence.split()) >= (summary_max_len-1)):\n",
    "            stop_condition = True\n",
    "\n",
    "        # 길이가 1인 타겟 시퀀스를 업데이트\n",
    "        target_seq = np.zeros((1,1))\n",
    "        target_seq[0, 0] = sampled_token_index\n",
    "\n",
    "        # 상태를 업데이트 합니다.\n",
    "        e_h, e_c = h, c\n",
    "\n",
    "    return decoded_sentence"
   ]
  },
  {
   "cell_type": "code",
   "execution_count": 49,
   "id": "finnish-arizona",
   "metadata": {},
   "outputs": [],
   "source": [
    "# 원문의 정수 시퀀스를 텍스트 시퀀스로 변환\n",
    "def seq2text(input_seq):\n",
    "    temp=''\n",
    "    for i in input_seq:\n",
    "        if (i!=0):\n",
    "            temp = temp + src_index_to_word[i]+' '\n",
    "    return temp\n",
    "\n",
    "# 요약문의 정수 시퀀스를 텍스트 시퀀스로 변환\n",
    "def seq2summary(input_seq):\n",
    "    temp=''\n",
    "    for i in input_seq:\n",
    "        if ((i!=0 and i!=tar_word_to_index['sostoken']) and i!=tar_word_to_index['eostoken']):\n",
    "            temp = temp + tar_index_to_word[i] + ' '\n",
    "    return temp"
   ]
  },
  {
   "cell_type": "code",
   "execution_count": 50,
   "id": "innocent-distance",
   "metadata": {
    "scrolled": false
   },
   "outputs": [
    {
     "name": "stdout",
     "output_type": "stream",
     "text": [
      "원문 : world largest processor barry developed first new natural colour chocolate since nestl developed white chocolate years ago switzerland based company calls hue chocolate ruby chocolate says made using special type bean says chocolate sour sweet flavour \n",
      "실제 요약 : new natural coloured chocolate developed \n",
      "추론 요약 :  world first printed light in display\n",
      "추출 요약 : world largest developed chocolate developed chocolate chocolate sweet flavour\n",
      "추출 요약 : world largest developed chocolate developed chocolate chocolate chocolate chocolate sweet flavour\n",
      "\n",
      "\n",
      "원문 : creator indian tv show cid pal singh appointed new president film television institute india society chairman governing council singh replace former president anupam kher announced october stepping due busy schedule singh previously vice chairman \n",
      "실제 요약 : creator bp singh appointed as new ftii president \n",
      "추론 요약 :  who is the new india vice president\n",
      "추출 요약 : creator indian cid appointed film television chairman council previously\n",
      "추출 요약 : creator indian cid singh appointed film television chairman council previously chairman\n",
      "\n",
      "\n",
      "원문 : year old fashion blogger shared video creating dress using trash bags amber said undertook silly challenge fans often told could make wearing trash bag look good created roses using trash bags stuck skirt entire process taking seven hours \n",
      "실제 요약 : fashion blogger creates dress using trash bags \n",
      "추론 요약 :  model makes hair dress that can wear jeans\n",
      "추출 요약 : year fashion blogger creating trash undertook challenge trash created trash\n",
      "추출 요약 : year fashion blogger creating trash undertook challenge trash created trash taking\n",
      "\n",
      "\n",
      "원문 : actress richa chadha confirmed contracted virus also known swine flu fell sick almost immediately upon return us move around little added however richa said plans attend trailer launch event upcoming film fukrey returns taking necessary precautions \n",
      "실제 요약 : actress richa chadha contracts swine flu \n",
      "추론 요약 :  richa chadha to rescue dengue in sri lanka\n",
      "추출 요약 : actress richa confirmed known fell sick plans necessary\n",
      "추출 요약 : actress richa confirmed virus known fell sick added richa plans necessary\n",
      "\n",
      "\n",
      "원문 : pointing bjp filed similar pleas regarding nominations west bengal panchayat polls calcutta high court supreme court hc imposed lakh fine party court likened bjp conduct forum bjp filed pleas state election commission withdrew order extending nomination filing deadline \n",
      "실제 요약 : hc fines bjp for forum over wb panchayat polls \n",
      "추론 요약 :  bjp leader moves bjp mlas for violating poll campaign\n",
      "추출 요약 : pointing filed similar west panchayat court court hc court filed filing\n",
      "추출 요약 : pointing filed similar west panchayat court court hc court filed filing\n",
      "\n",
      "\n",
      "원문 : eight year old girl uttar pradesh agra got head stuck classroom door two hours tried escape punishment reportedly locked classroom teacher rescued pm school hours teacher involved incident school principal suspended police officials said \n",
      "실제 요약 : girl tries to escape detention gets head stuck between door \n",
      "추론 요약 :  year old girl dies after being beaten up in up\n",
      "추출 요약 : year old classroom locked classroom school school suspended said\n",
      "추출 요약 : year old agra classroom tried locked classroom school school suspended said\n",
      "\n",
      "\n",
      "원문 : expressing anguish death year old man srinagar jammu kashmir cm mehbooba mufti sunday asked security forces exercise maximum restraint provocative situations asked follow standard operating procedures cases comes series videos showing alleged brutality armed forces went viral social media \n",
      "실제 요약 : cm asks armed forces to exercise maximum restraint \n",
      "추론 요약 :  will kill cm on sukma blast in kashmir cm\n",
      "추출 요약 : expressing anguish death mufti series showing alleged went viral social media\n",
      "추출 요약 : expressing anguish death mufti series showing alleged went viral social media\n",
      "\n",
      "\n",
      "원문 : deputy forest department died trying douse flames forest fire himachal pradesh leading seven member team fire slipped slope fell gorge dying spot body handed family members postmortem \n",
      "실제 요약 : deputy dies trying to forest fire in himachal \n",
      "추론 요약 :  killed as vehicles die in maharashtra truck\n",
      "추출 요약 : deputy forest flames forest leading slipped gorge\n",
      "추출 요약 : deputy forest flames forest pradesh leading seven member slipped gorge handed\n",
      "\n",
      "\n",
      "원문 : microsoft co founder bill gates friday joined photo sharing platform instagram gaining followers day first post included pictures working bill melinda gates foundation hello tanzania sharing photos adventures instagram hope follow along post read \n",
      "실제 요약 : microsoft co founder bill gates joins instagram \n",
      "추론 요약 :  bill gates shares picture with his name on instagram\n",
      "추출 요약 : microsoft founder friday platform gaining day post post\n",
      "추출 요약 : microsoft founder friday photo platform instagram gaining day post photos post\n",
      "\n",
      "\n",
      "원문 : filmmaker mahesh bhatt commenting daughter alia bhatt boyfriend ranbir kapoor said would let paparazzi guess papa raazi added belong category parents advise children personal choices recently paparazzi pictures showed mahesh couple alia mumbai residence \n",
      "실제 요약 : let paparazzi guess if papa is raazi mahesh on alia ranbir \n",
      "추론 요약 :  ranbir is like alia bhatt on her marriage\n",
      "추출 요약 : filmmaker bhatt commenting bhatt boyfriend kapoor guess raazi couple\n",
      "추출 요약 : filmmaker bhatt commenting bhatt boyfriend ranbir kapoor let guess raazi couple\n",
      "\n",
      "\n",
      "원문 : shillong host second cherry festival november known india international cherry festival hosted meghalaya government feature bicycle rallies archery contests beauty pageant also live music dance performances stalls showcasing region \n",
      "실제 요약 : shillong to host festival \n",
      "추론 요약 :  festival of festival\n",
      "추출 요약 : shillong cherry meghalaya feature bicycle rallies beauty performances\n",
      "추출 요약 : shillong cherry cherry meghalaya feature bicycle rallies archery beauty performances showcasing\n",
      "\n",
      "\n",
      "원문 : us planning establish arab nato force counter iran military expansion region spokesperson us national security council said proposed security political alliance known middle east strategic alliance consist us saudi arabia uae qatar oman kuwait bahrain egypt jordan \n",
      "실제 요약 : us plans to establish arab nato to counter iran \n",
      "추론 요약 :  us to cut military aid to us military security\n",
      "추출 요약 : planning establish arab force iran military expansion uae egypt jordan\n",
      "추출 요약 : planning establish arab force iran military expansion consist uae egypt jordan\n",
      "\n",
      "\n",
      "원문 : indigo thursday became india first airline aircraft fleet nearly share domestic air travel market gurugram based low cost carrier country largest airline airline founded billionaires rahul bhatia rakesh started operations august delhi imphal flight \n",
      "실제 요약 : indigo becomes first indian airline to have aircraft \n",
      "추론 요약 :  indigo st indian to fly to fly for air india\n",
      "추출 요약 : indigo fleet air market based country rahul delhi imphal\n",
      "추출 요약 : indigo fleet air market based cost country rahul rakesh delhi imphal\n",
      "\n",
      "\n",
      "원문 : fbi director james comey monday said organisation evidence support president donald trump claim trump tower headquarters election campaign barack obama administration courts grant permission electronic surveillance individual united states direct electronic surveillance anyone comey added \n",
      "실제 요약 : no evidence of trump claim fbi director \n",
      "추론 요약 :  fbi chief comey was not to be us president fbi\n",
      "추출 요약 : fbi said president trump trump tower barack grant states direct\n",
      "추출 요약 : fbi said president trump trump tower election barack grant states direct\n",
      "\n",
      "\n",
      "원문 : defence ministry announced disability war injury pension special family pension family pension shall minimum per month amount revised effect january th pay commission earlier suggested slab based system fixing disability pension soldiers received criticism retired soldiers \n",
      "실제 요약 : differently abled soldiers to get minimum pension \n",
      "추론 요약 :  myanmar to get two months of retirement\n",
      "추출 요약 : disability pension pension pension shall pay disability pension criticism\n",
      "추출 요약 : defence disability pension pension pension shall minimum pay disability pension criticism\n",
      "\n",
      "\n",
      "원문 : torso armour actor russell crowe wore film sold australian dollars auction sydney sale part auction titled russell crowe art divorce actor sold items shared former wife danielle spencer \n",
      "실제 요약 : by russell in sells for lakh \n",
      "추론 요약 :  chris martin sells for crore\n",
      "추출 요약 : torso armour actor russell dollars russell actor\n",
      "추출 요약 : torso armour actor russell dollars russell divorce actor shared wife danielle\n",
      "\n",
      "\n",
      "원문 : former indian cricketer sachin tendulkar lauded pacer mohammad shami picked six wicket haul perth test monday glad see consistent bowling pace attack mohammad shami exceptional today wickets absolute joy watch read sachin tweet pacer performance \n",
      "실제 요약 : sachin tendulkar lauds shami for his wicket haul in perth \n",
      "추론 요약 :  sachin tendulkar to be made in sri lanka pacer\n",
      "추출 요약 : indian tendulkar mohammad wicket haul bowling mohammad wickets tweet\n",
      "추출 요약 : indian cricketer tendulkar mohammad wicket haul glad bowling mohammad wickets tweet\n",
      "\n",
      "\n",
      "원문 : us president donald trump announced extension trade embargo cuba another year memo released white house friday stated extension national interest us us first cut diplomatic relations cuba following socialist revolution led late cuban revolutionary leader castro \n",
      "실제 요약 : trump extends cuba trade embargo for year \n",
      "추론 요약 :  trump suggests nato diplomats to diplomats in nato\n",
      "추출 요약 : president donald trade memo house cut socialist cuban castro\n",
      "추출 요약 : president donald extension trade year memo house cut socialist cuban castro\n",
      "\n",
      "\n",
      "원문 : odisha government tuesday ordered ban use plastic bags single use plastic state starting october ban imposed bhubaneswar cuttack municipal corporations puri town first phase entire state covered separate phases span two years \n",
      "실제 요약 : odisha to ban use of plastic in from october \n",
      "추론 요약 :  odisha bans plastic bags in plastic bags\n",
      "추출 요약 : odisha ordered state october imposed bhubaneswar corporations state covered\n",
      "추출 요약 : odisha ordered state october imposed bhubaneswar cuttack corporations state covered span\n",
      "\n",
      "\n",
      "원문 : italy ordered north korea incoming ambassador leave country protest north korea missile launches nuclear tests adding want make pyongyang understand isolation inevitable change course italy said cutting diplomatic relations always useful maintain channel communications nn \n",
      "실제 요약 : italy orders korean envoy to leave country over nuke tests \n",
      "추론 요약 :  north korea threatens to stop missile strike in north korea\n",
      "추출 요약 : italy ambassador protest missile adding understand course italy relations channel\n",
      "추출 요약 : italy ambassador protest missile tests adding understand course italy relations channel\n",
      "\n",
      "\n",
      "원문 : actress mitra slammed sonam kapoor tweet condemning kathua rape case wherein year old girl raped murdered condemned heinous crime gave communal twist read part tweet tweet sonam written ashamed fake nationals fake hindus \n",
      "실제 요약 : mitra slams sonam for her tweet on kathua rape case \n",
      "추론 요약 :  sonam slams rape victim over rape threats by her\n",
      "추출 요약 : actress sonam case old girl murdered gave sonam ashamed\n",
      "추출 요약 : actress sonam case old girl murdered heinous gave sonam ashamed nationals\n",
      "\n",
      "\n",
      "원문 : uk supermarket giant tesco slammed millions pounds charity donations plastic bag tax cover administration costs tesco withdrew million funds generated pence charge bags year march amount equivalent total proceeds \n",
      "실제 요약 : firm took cr of charity plastic bag funds for own costs \n",
      "추론 요약 :  uk supermarket firm fined over plastic bags\n",
      "추출 요약 : uk tesco plastic tax cover administration funds march\n",
      "추출 요약 : uk tesco plastic tax cover administration costs tesco funds march total\n",
      "\n",
      "\n",
      "원문 : enforcement directorate friday registered case lashkar taiba chief hafiz saeed members hurriyat conference hizbul mujahideen prevention money laundering act ed investigate flow funds hawala illegal domestic international channels funding separatist terror activities jammu kashmir \n",
      "실제 요약 : hafiz saeed separatists booked by ed for money laundering \n",
      "추론 요약 :  ex pak cm arrested for nia chief murder case\n",
      "추출 요약 : enforcement directorate friday registered case taiba hizbul laundering activities jammu\n",
      "추출 요약 : enforcement directorate friday registered case taiba hizbul laundering channels activities jammu\n",
      "\n",
      "\n",
      "원문 : sixty high rise buildings failed safety tests carried fire killed least people london grenfell tower british government said sunday around residents forced evacuate homes north london friday authorities ruled blocks unsafe british officials conducting tests high rise buildings across england \n",
      "실제 요약 : buildings fail safety tests after london fire uk govt \n",
      "추론 요약 :  killed in fire at london airport\n",
      "추출 요약 : high buildings failed carried people british said british high buildings\n",
      "추출 요약 : high buildings failed carried people british said british officials high buildings\n",
      "\n",
      "\n",
      "원문 : actor anupam kher member original cast judwaa cast upcoming movie judwaa starring actor varun dhawan varun shared news twitter wrote anupam lot better looking kher tweeted kind also \n",
      "실제 요약 : anupam kher only member of original cast to star in judwaa \n",
      "추론 요약 :  anupam kher to star in varun dhawan starrer october\n",
      "추출 요약 : actor anupam kher member starring actor anupam kher\n",
      "추출 요약 : actor anupam kher member starring actor wrote anupam better looking kher\n",
      "\n",
      "\n",
      "원문 : google launched new cloud storage subscription plan google one india new service offer storage plans ranging gb tb across products including google drive google photos offering plans prices starting per month gb plan tb tb plan \n",
      "실제 요약 : google launches paid storage service google one in india \n",
      "추론 요약 :  google launches its first indian apps in india\n",
      "추출 요약 : google cloud storage google storage ranging google google prices\n",
      "추출 요약 : google cloud storage google storage ranging gb google google prices gb\n",
      "\n",
      "\n",
      "원문 : deputy commissioner police maharashtra aurangabad booked allegedly raping year old daughter female constable according victim complaint accused raped repeatedly february june pretext providing job accused went leave victim filed complaint recently police said \n",
      "실제 요약 : dcp booked for raping daughter of woman constable in maha \n",
      "추론 요약 :  police arrest booked for raping girl in gurugram\n",
      "추출 요약 : deputy commissioner old constable accused pretext accused leave said\n",
      "추출 요약 : deputy commissioner booked year old constable accused pretext accused leave said\n",
      "\n",
      "\n",
      "원문 : genius tv series life work spanish painter pablo national geographic april one th century influential artists spent passionate life france included marriages numerous affairs constantly shifting political personal alliances along creative drive \n",
      "실제 요약 : global event series genius on on april \n",
      "추론 요약 :  the first ever first ever commercial commercial cover ago\n",
      "추출 요약 : genius series life painter national century artists life alliances\n",
      "추출 요약 : genius series life painter pablo national april century artists life alliances\n",
      "\n",
      "\n",
      "원문 : actor akshay kumar said talking toilets still considered taboo india added also mindset places gone heard people saying house cook food openly defecate field food coming \n",
      "실제 요약 : talking about toilets is still in india akshay kumar \n",
      "추론 요약 :  akshay is not just toilet to be akshay kumar\n",
      "추출 요약 : actor akshay said taboo added places gone\n",
      "추출 요약 : actor akshay said toilets taboo india added places gone saying coming\n",
      "\n",
      "\n",
      "원문 : arpita khan sharma posted picture brother salman khan instagram caption god bless people cannot handle success called god child adding wish positivity happiness may fade away notably salman recently got bail blackbuck poaching case \n",
      "실제 요약 : god people who can handle salman success \n",
      "추론 요약 :  salman khan is like child jeans salman khan\n",
      "추출 요약 : arpita sharma posted salman caption handle called salman blackbuck\n",
      "추출 요약 : arpita sharma posted salman instagram caption bless handle called salman blackbuck\n",
      "\n",
      "\n",
      "원문 : national executive meet monday bjp passed political resolution highlighting need eradicate poverty terrorism casteism communalism corruption india get rid politics vote bank appeasement polarisation supporting terror groups union minister bjp leader nitin gadkari said \n",
      "실제 요약 : bjp to corruption terrorism by \n",
      "추론 요약 :  bjp has no corruption in corruption bjp\n",
      "추출 요약 : national passed need poverty casteism rid polarisation nitin gadkari\n",
      "추출 요약 : national passed need poverty casteism corruption rid polarisation groups nitin gadkari\n",
      "\n",
      "\n",
      "원문 : indian newspaper recently published interview ex australia fast bowler mitchell johnson wherein praised india fast bowler jasprit bumrah saying batsman think twice taking however year old australian claimed never sat newspaper come recall wrote tweeted \n",
      "실제 요약 : indian newspaper posts johnson interview he says he never gave it \n",
      "추론 요약 :  bumrah bumrah is no bowling ex sa pacer selector\n",
      "추출 요약 : indian recently published australia bowler india bowler bumrah recall\n",
      "추출 요약 : indian recently published australia fast bowler india fast bowler bumrah recall\n",
      "\n",
      "\n",
      "원문 : uttar pradesh anti terrorism squad arrested chandra former indian army soldier allegedly forging documents people seeking jobs army came ats radar army found recent recruit nepal produced fake documents recruitment process earlier jailed forging government documents \n",
      "실제 요약 : ex army man held for forging documents for army job seekers \n",
      "추론 요약 :  police arrests indian youth in bangladesh for army recruitment\n",
      "추출 요약 : uttar pradesh soldier documents came recruit documents recruitment process government\n",
      "추출 요약 : uttar pradesh soldier documents came recruit documents recruitment process government documents\n",
      "\n",
      "\n",
      "원문 : university chinese city offering weight loss course students whose body mass index higher year long course encourages students lose weight exercise diet control grade determined much weight lose university introduced course realising students gaining weight \n",
      "실제 요약 : university offers weight loss course for overweight students \n",
      "추론 요약 :  china bans students in south africa\n",
      "추출 요약 : university city students long students university introduced realising students\n",
      "추출 요약 : university city students long students lose lose university introduced realising students\n",
      "\n",
      "\n",
      "원문 : ram nath kovind sworn india th president tuesday oath taking ceremony held central hall parliament administered oath office chief justice india js khehar kovind defeated opposition candidate meira kumar securing votes country second dalit president kr narayanan \n",
      "실제 요약 : ram nath kovind takes oath as india th president \n",
      "추론 요약 :  who is the first president kovind in the term\n",
      "추출 요약 : ram nath kovind sworn india hall chief india kovind dalit kr\n",
      "추출 요약 : ram nath kovind sworn india hall chief india kovind dalit kr\n",
      "\n",
      "\n",
      "원문 : saudi arabia mohammed al arrived canada saturday granted asylum north american country year old granted asylum fled alleged abusive family said feared killed upon return kingdom granted refugee status united nations \n",
      "실제 요약 : saudi girl arrives in canada after being granted asylum \n",
      "추론 요약 :  saudi arabia arrests over missing in years\n",
      "추출 요약 : saudi arabia al saturday north american fled abusive united\n",
      "추출 요약 : saudi arabia al canada saturday north american country fled abusive united\n",
      "\n",
      "\n",
      "원문 : government approved filing chargesheet samajwadi party leader azam khan year allegedly claimed women terrorists chopping private parts army personnel send strong message leave entire nation ashamed following four people including son bjp leader filed complaints khan \n",
      "실제 요약 : sp leader azam khan to be for anti army remark \n",
      "추론 요약 :  azam khan meets azam khan to teach army chief\n",
      "추출 요약 : government approved filing leader khan bjp leader filed complaints khan\n",
      "추출 요약 : government approved filing samajwadi leader khan bjp leader filed complaints khan\n",
      "\n",
      "\n",
      "원문 : north korean dictator kim jong un reportedly described country missile test tuesday gift american us independence day kim urged country nuclear scientists frequently send big small gift packages form missile nuclear tests reports added \n",
      "실제 요약 : missile test was gift for american north korea \n",
      "추론 요약 :  north korea will be ready to north korea\n",
      "추출 요약 : north test gift american independence nuclear small nuclear tests\n",
      "추출 요약 : north kim test gift american independence nuclear small gift nuclear tests\n",
      "\n",
      "\n",
      "원문 : talking microsoft business model ceo satya nadella recent interview said believe right microsoft probably right side history emphasising microsoft business model based customers successful nadella also said successful pay us one transaction driven economies added \n",
      "실제 요약 : microsoft is on the right side of history ceo satya nadella \n",
      "추론 요약 :  microsoft ceo microsoft will not affect microsoft microsoft ceo\n",
      "추출 요약 : talking microsoft model recent right microsoft right microsoft model\n",
      "추출 요약 : talking microsoft model recent said right microsoft probably right microsoft model\n",
      "\n",
      "\n",
      "원문 : apple disclose amount cash company held outside us latest quarterly report according bloomberg microsoft stopped reporting last year google oracle discontinued disclosure year per president donald trump tax regime us based companies pay tax money kept outside country \n",
      "실제 요약 : apple google microsoft did not disclose cash held overseas \n",
      "추론 요약 :  apple to pay million to us president apple\n",
      "추출 요약 : apple disclose outside according stopped discontinued trump pay country\n",
      "추출 요약 : apple disclose outside report according stopped discontinued trump pay outside country\n",
      "\n",
      "\n",
      "원문 : according reports katrina kaif kartik aaryan perform indian premier league finale separate acts kartik perform songs sonu ke titu ki sweety katrina dance hits tiger zinda hai said reports also speculations ranbir kapoor host segment closing ceremony \n",
      "실제 요약 : katrina kartik to perform at ipl finale reports \n",
      "추론 요약 :  katrina to play in champions trophy reports\n",
      "추출 요약 : according reports katrina perform premier perform katrina reports closing ceremony\n",
      "추출 요약 : according reports katrina kartik perform premier perform katrina reports closing ceremony\n",
      "\n",
      "\n",
      "원문 : astronaut neil armstrong became first man ever walk moon july could afford life insurance mission armstrong members crew autographed envelopes apollo crew emblem hoped could provide financial support families event demise \n",
      "실제 요약 : armstrong could not afford insurance before his moon mission \n",
      "추론 요약 :  neil armstrong moon landing to fly st moon landing\n",
      "추출 요약 : astronaut armstrong afford armstrong autographed families event\n",
      "추출 요약 : astronaut armstrong man afford armstrong autographed apollo financial families event demise\n",
      "\n",
      "\n",
      "원문 : election commission wednesday blocked usage aiadmk name twin leaves poll symbol claimed faction led panneerselvam ex tamil nadu cm allegedly asked step aiadmk chief sasikala natarajan ec also asked factions choose different symbols upcoming polls \n",
      "실제 요약 : ec freezes aiadmk poll symbol after panneerselvam claim \n",
      "추론 요약 :  aiadmk leader sacked for bringing aiadmk\n",
      "추출 요약 : election commission symbol led nadu step ec symbols upcoming\n",
      "추출 요약 : election commission aiadmk symbol led nadu step aiadmk ec symbols upcoming\n",
      "\n",
      "\n",
      "원문 : reacting american tennis star serena williams giving birth baby girl user tweeted serena baby came womb ranked inside top users reacted tweets like serena baby kid wins wimbledon serena williams given birth future female icon \n",
      "실제 요약 : serena baby already ranked inside top tweets user \n",
      "추론 요약 :  serena williams gives birth to baby girl\n",
      "추출 요약 : reacting tennis star birth womb inside reacted birth future female\n",
      "추출 요약 : reacting tennis star birth womb inside reacted wimbledon birth future female\n",
      "\n",
      "\n",
      "원문 : uk government spent deliver six page letter informing european council decision leave european union letter addressed european council president donald tusk delivered person two civil servants travelled belgian capital city brussels high speed railway train business premier class \n",
      "실제 요약 : uk spent to deliver page brexit letter to belgium \n",
      "추론 요약 :  uk govt approves uk brexit ban on brexit\n",
      "추출 요약 : uk letter council decision letter president civil capital speed business\n",
      "추출 요약 : uk letter council decision letter council president civil capital speed business\n",
      "\n",
      "\n",
      "원문 : former champion hayden passed away five days involved cycling accident italy year old american hit car training exercise italy last week suffered severe head chest injuries hayden entered world championship \n",
      "실제 요약 : former world champ dies days after bicycle crash \n",
      "추론 요약 :  former olympic champion dies after being hit by car\n",
      "추출 요약 : champion away year american hit car week injuries\n",
      "추출 요약 : champion hayden away year american hit car training week injuries world\n",
      "\n",
      "\n",
      "원문 : kerala government ordinance making mandatory state schools including private government schools teach malayalam school teacher provision would face legal consequences law states kerala high court struck similar order stating students states also studied kerala \n",
      "실제 요약 : teaching malayalam made mandatory in all kerala schools \n",
      "추론 요약 :  kerala schools to get students for students in schools\n",
      "추출 요약 : kerala ordinance including face consequences kerala order students kerala\n",
      "추출 요약 : kerala ordinance making including face consequences kerala struck order students kerala\n",
      "\n",
      "\n",
      "원문 : stayzilla co founder yogendra vasupal accused jigsaw advertising filing false criminal case alleging unpaid dues vasupal claims jigsaw doctored photos stayzilla hoardings required proof delivery payment one claim photos jigsaw claimed taken two months apart showed cars place \n",
      "실제 요약 : client forged proof filed false criminal case stayzilla \n",
      "추론 요약 :  stayzilla co founder sues wife for bankruptcy\n",
      "추출 요약 : stayzilla founder criminal unpaid photos stayzilla delivery photos apart place\n",
      "추출 요약 : stayzilla founder jigsaw criminal unpaid photos stayzilla delivery photos apart place\n",
      "\n",
      "\n",
      "원문 : gang grew million weed one uk biggest marijuana farms caught chance police investigating burglary found plant leader michael fellow members stole huge amounts electricity power production jailed years others also face jail term \n",
      "실제 요약 : uk gang growing crore worth weed caught \n",
      "추론 요약 :  bank of gang found in bitcoin worth lakh\n",
      "추출 요약 : gang grew chance fellow amounts jailed jail term\n",
      "추출 요약 : gang grew biggest caught chance burglary fellow amounts jailed jail term\n",
      "\n",
      "\n",
      "원문 : us based food delivery service cancelled woman job interview wage benefits position would offer woman tweeted screenshots startup reply read questions reveal priorities sync however startup later apologised woman offered interview \n",
      "실제 요약 : startup cancels woman job interview for asking about wage \n",
      "추론 요약 :  us based food delivery service after woman cuts\n",
      "추출 요약 : based food service interview offer tweeted offered interview\n",
      "추출 요약 : based food service woman interview benefits offer woman tweeted offered interview\n",
      "\n",
      "\n"
     ]
    }
   ],
   "source": [
    "for i in range(50, 100):\n",
    "    print(\"원문 :\", seq2text(encoder_input_test[i]))\n",
    "    print(\"실제 요약 :\", seq2summary(decoder_input_test[i]))\n",
    "    print(\"추론 요약 :\", decode_sequence(encoder_input_test[i].reshape(1, text_max_len)))\n",
    "    print(\"추출 요약 :\", summarize(seq2text(encoder_input_test[i]).replace(' ','\\n'),ratio=0.3).replace('\\n',' '))\n",
    "    print(\"추출 요약 :\", summarize(seq2text(encoder_input_test[i]).replace(' ','\\n'),words=11).replace('\\n',' '))\n",
    "    print(\"\\n\")"
   ]
  },
  {
   "cell_type": "markdown",
   "id": "former-techno",
   "metadata": {},
   "source": [
    "요약 문장 몇개를 구글번역기에 넣어 봤을 때 추론 요약의 경우 문법완성도 측면에서 실제 요약과 비슷한 수준을 보이는 것 같았다. 하지만 핵심단어 포함 측면에서 원문의 내용과 다른 단어를 선정하는 경우도 있었다.\n",
    "추출 요약의 경우 핵심단어 포함 측면에서 내용과 다른 단어를 선정하지는 않지만 실제 요약의 의미를 담아내기에는 부족해 보인다. 문법완성도는 매우 떨어진다. summarize 함수에 원문을 그대로 넣을 경우 문장이 너무 적어서 그런지 공백만 출력되어 공백을 \\n으로 바꾸었다가 되돌려 주었다. 이로인해 추출 요약의 결과가 좋지 못한 것인지는 모르겠다."
   ]
  }
 ],
 "metadata": {
  "kernelspec": {
   "display_name": "Python 3",
   "language": "python",
   "name": "python3"
  },
  "language_info": {
   "codemirror_mode": {
    "name": "ipython",
    "version": 3
   },
   "file_extension": ".py",
   "mimetype": "text/x-python",
   "name": "python",
   "nbconvert_exporter": "python",
   "pygments_lexer": "ipython3",
   "version": "3.7.9"
  }
 },
 "nbformat": 4,
 "nbformat_minor": 5
}
