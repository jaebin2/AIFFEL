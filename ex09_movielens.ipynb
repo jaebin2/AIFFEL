{
 "cells": [
  {
   "cell_type": "code",
   "execution_count": 1,
   "id": "human-weight",
   "metadata": {},
   "outputs": [
    {
     "data": {
      "text/html": [
       "<div>\n",
       "<style scoped>\n",
       "    .dataframe tbody tr th:only-of-type {\n",
       "        vertical-align: middle;\n",
       "    }\n",
       "\n",
       "    .dataframe tbody tr th {\n",
       "        vertical-align: top;\n",
       "    }\n",
       "\n",
       "    .dataframe thead th {\n",
       "        text-align: right;\n",
       "    }\n",
       "</style>\n",
       "<table border=\"1\" class=\"dataframe\">\n",
       "  <thead>\n",
       "    <tr style=\"text-align: right;\">\n",
       "      <th></th>\n",
       "      <th>user_id</th>\n",
       "      <th>movie_id</th>\n",
       "      <th>ratings</th>\n",
       "      <th>timestamp</th>\n",
       "    </tr>\n",
       "  </thead>\n",
       "  <tbody>\n",
       "    <tr>\n",
       "      <th>0</th>\n",
       "      <td>1</td>\n",
       "      <td>1193</td>\n",
       "      <td>5</td>\n",
       "      <td>978300760</td>\n",
       "    </tr>\n",
       "    <tr>\n",
       "      <th>1</th>\n",
       "      <td>1</td>\n",
       "      <td>661</td>\n",
       "      <td>3</td>\n",
       "      <td>978302109</td>\n",
       "    </tr>\n",
       "    <tr>\n",
       "      <th>2</th>\n",
       "      <td>1</td>\n",
       "      <td>914</td>\n",
       "      <td>3</td>\n",
       "      <td>978301968</td>\n",
       "    </tr>\n",
       "    <tr>\n",
       "      <th>3</th>\n",
       "      <td>1</td>\n",
       "      <td>3408</td>\n",
       "      <td>4</td>\n",
       "      <td>978300275</td>\n",
       "    </tr>\n",
       "    <tr>\n",
       "      <th>4</th>\n",
       "      <td>1</td>\n",
       "      <td>2355</td>\n",
       "      <td>5</td>\n",
       "      <td>978824291</td>\n",
       "    </tr>\n",
       "  </tbody>\n",
       "</table>\n",
       "</div>"
      ],
      "text/plain": [
       "   user_id  movie_id  ratings  timestamp\n",
       "0        1      1193        5  978300760\n",
       "1        1       661        3  978302109\n",
       "2        1       914        3  978301968\n",
       "3        1      3408        4  978300275\n",
       "4        1      2355        5  978824291"
      ]
     },
     "execution_count": 1,
     "metadata": {},
     "output_type": "execute_result"
    }
   ],
   "source": [
    "import os\n",
    "import numpy as np\n",
    "import pandas as pd\n",
    "import random\n",
    "from scipy.sparse import csr_matrix\n",
    "from implicit.als import AlternatingLeastSquares\n",
    "\n",
    "# implicit 라이브러리에서 권장하고 있는 부분입니다. 학습 내용과는 무관합니다.\n",
    "os.environ['OPENBLAS_NUM_THREADS']='1'\n",
    "os.environ['KMP_DUPLICATE_LIB_OK']='True'\n",
    "os.environ['MKL_NUM_THREADS']='1'\n",
    "\n",
    "# pd.set_option('display.max_rows', None)\n",
    "# pd.set_option('display.max_columns', None)\n",
    "\n",
    "rating_file_path=os.getenv('HOME') + '/aiffel/recommendata_iu/data/ml-1m/ratings.dat'\n",
    "ratings_cols = ['user_id', 'movie_id', 'ratings', 'timestamp']\n",
    "ratings = pd.read_csv(rating_file_path, sep='::', names=ratings_cols, engine='python', encoding = \"ISO-8859-1\")\n",
    "orginal_data_size = len(ratings)\n",
    "ratings.head()"
   ]
  },
  {
   "cell_type": "code",
   "execution_count": 2,
   "id": "future-jacob",
   "metadata": {},
   "outputs": [
    {
     "data": {
      "text/plain": [
       "user_id      0\n",
       "movie_id     0\n",
       "ratings      0\n",
       "timestamp    0\n",
       "dtype: int64"
      ]
     },
     "execution_count": 2,
     "metadata": {},
     "output_type": "execute_result"
    }
   ],
   "source": [
    "ratings.isna().sum()"
   ]
  },
  {
   "cell_type": "markdown",
   "id": "opening-footwear",
   "metadata": {},
   "source": [
    "1) 데이터 준비와 전처리"
   ]
  },
  {
   "cell_type": "code",
   "execution_count": 3,
   "id": "ongoing-roulette",
   "metadata": {},
   "outputs": [
    {
     "name": "stdout",
     "output_type": "stream",
     "text": [
      "orginal_data_size: 1000209, filtered_data_size: 836478\n",
      "Ratio of Remaining Data is 83.63%\n"
     ]
    }
   ],
   "source": [
    "using_cols = ['user_id', 'movie_id', 'ratings']\n",
    "ratings = ratings[using_cols]\n",
    "# 3점 이상만 남깁니다.\n",
    "ratings = ratings[ratings['ratings']>=3]\n",
    "filtered_data_size = len(ratings)\n",
    "\n",
    "print(f'orginal_data_size: {orginal_data_size}, filtered_data_size: {filtered_data_size}')\n",
    "print(f'Ratio of Remaining Data is {filtered_data_size / orginal_data_size:.2%}')"
   ]
  },
  {
   "cell_type": "code",
   "execution_count": 4,
   "id": "visible-continent",
   "metadata": {},
   "outputs": [],
   "source": [
    "# ratings 컬럼의 이름을 counts로 바꿉니다.\n",
    "ratings.rename(columns={'ratings':'counts'}, inplace=True)"
   ]
  },
  {
   "cell_type": "code",
   "execution_count": 5,
   "id": "unauthorized-match",
   "metadata": {},
   "outputs": [
    {
     "data": {
      "text/plain": [
       "0          5\n",
       "1          3\n",
       "2          3\n",
       "3          4\n",
       "4          5\n",
       "          ..\n",
       "1000203    3\n",
       "1000205    5\n",
       "1000206    5\n",
       "1000207    4\n",
       "1000208    4\n",
       "Name: counts, Length: 836478, dtype: int64"
      ]
     },
     "execution_count": 5,
     "metadata": {},
     "output_type": "execute_result"
    }
   ],
   "source": [
    "ratings['counts']"
   ]
  },
  {
   "cell_type": "code",
   "execution_count": 6,
   "id": "aboriginal-marina",
   "metadata": {},
   "outputs": [
    {
     "data": {
      "text/html": [
       "<div>\n",
       "<style scoped>\n",
       "    .dataframe tbody tr th:only-of-type {\n",
       "        vertical-align: middle;\n",
       "    }\n",
       "\n",
       "    .dataframe tbody tr th {\n",
       "        vertical-align: top;\n",
       "    }\n",
       "\n",
       "    .dataframe thead th {\n",
       "        text-align: right;\n",
       "    }\n",
       "</style>\n",
       "<table border=\"1\" class=\"dataframe\">\n",
       "  <thead>\n",
       "    <tr style=\"text-align: right;\">\n",
       "      <th></th>\n",
       "      <th>movie_id</th>\n",
       "      <th>title</th>\n",
       "      <th>genre</th>\n",
       "    </tr>\n",
       "  </thead>\n",
       "  <tbody>\n",
       "    <tr>\n",
       "      <th>0</th>\n",
       "      <td>1</td>\n",
       "      <td>Toy Story (1995)</td>\n",
       "      <td>Animation|Children's|Comedy</td>\n",
       "    </tr>\n",
       "    <tr>\n",
       "      <th>1</th>\n",
       "      <td>2</td>\n",
       "      <td>Jumanji (1995)</td>\n",
       "      <td>Adventure|Children's|Fantasy</td>\n",
       "    </tr>\n",
       "    <tr>\n",
       "      <th>2</th>\n",
       "      <td>3</td>\n",
       "      <td>Grumpier Old Men (1995)</td>\n",
       "      <td>Comedy|Romance</td>\n",
       "    </tr>\n",
       "    <tr>\n",
       "      <th>3</th>\n",
       "      <td>4</td>\n",
       "      <td>Waiting to Exhale (1995)</td>\n",
       "      <td>Comedy|Drama</td>\n",
       "    </tr>\n",
       "    <tr>\n",
       "      <th>4</th>\n",
       "      <td>5</td>\n",
       "      <td>Father of the Bride Part II (1995)</td>\n",
       "      <td>Comedy</td>\n",
       "    </tr>\n",
       "  </tbody>\n",
       "</table>\n",
       "</div>"
      ],
      "text/plain": [
       "   movie_id                               title                         genre\n",
       "0         1                    Toy Story (1995)   Animation|Children's|Comedy\n",
       "1         2                      Jumanji (1995)  Adventure|Children's|Fantasy\n",
       "2         3             Grumpier Old Men (1995)                Comedy|Romance\n",
       "3         4            Waiting to Exhale (1995)                  Comedy|Drama\n",
       "4         5  Father of the Bride Part II (1995)                        Comedy"
      ]
     },
     "execution_count": 6,
     "metadata": {},
     "output_type": "execute_result"
    }
   ],
   "source": [
    "# 영화 제목을 보기 위해 메타 데이터를 읽어옵니다.\n",
    "movie_file_path=os.getenv('HOME') + '/aiffel/recommendata_iu/data/ml-1m/movies.dat'\n",
    "cols = ['movie_id', 'title', 'genre'] \n",
    "movies = pd.read_csv(movie_file_path, sep='::', names=cols, engine='python', encoding='ISO-8859-1')\n",
    "movies.head()"
   ]
  },
  {
   "cell_type": "code",
   "execution_count": 7,
   "id": "announced-burden",
   "metadata": {},
   "outputs": [
    {
     "data": {
      "text/plain": [
       "movie_id    0\n",
       "title       0\n",
       "genre       0\n",
       "dtype: int64"
      ]
     },
     "execution_count": 7,
     "metadata": {},
     "output_type": "execute_result"
    }
   ],
   "source": [
    "movies.isna().sum()"
   ]
  },
  {
   "cell_type": "code",
   "execution_count": 8,
   "id": "environmental-footwear",
   "metadata": {
    "scrolled": false
   },
   "outputs": [
    {
     "data": {
      "text/plain": [
       "0                         Toy Story (1995)\n",
       "1                           Jumanji (1995)\n",
       "2                  Grumpier Old Men (1995)\n",
       "3                 Waiting to Exhale (1995)\n",
       "4       Father of the Bride Part II (1995)\n",
       "                       ...                \n",
       "3878               Meet the Parents (2000)\n",
       "3879            Requiem for a Dream (2000)\n",
       "3880                      Tigerland (2000)\n",
       "3881               Two Family House (2000)\n",
       "3882                 Contender, The (2000)\n",
       "Name: title, Length: 3883, dtype: object"
      ]
     },
     "execution_count": 8,
     "metadata": {},
     "output_type": "execute_result"
    }
   ],
   "source": [
    "movies['title']"
   ]
  },
  {
   "cell_type": "markdown",
   "id": "forced-imagination",
   "metadata": {},
   "source": [
    "2) 분석해 봅시다.\n",
    "ratings에 있는 유니크한 영화 개수\n",
    "ratings에 있는 유니크한 사용자 수\n",
    "가장 인기 있는 영화 30개(인기순)"
   ]
  },
  {
   "cell_type": "code",
   "execution_count": 9,
   "id": "advised-vocabulary",
   "metadata": {},
   "outputs": [
    {
     "data": {
      "text/plain": [
       "3628"
      ]
     },
     "execution_count": 9,
     "metadata": {},
     "output_type": "execute_result"
    }
   ],
   "source": [
    "ratings['movie_id'].nunique()"
   ]
  },
  {
   "cell_type": "code",
   "execution_count": 10,
   "id": "classified-fitness",
   "metadata": {},
   "outputs": [
    {
     "data": {
      "text/plain": [
       "6039"
      ]
     },
     "execution_count": 10,
     "metadata": {},
     "output_type": "execute_result"
    }
   ],
   "source": [
    "ratings['user_id'].nunique()"
   ]
  },
  {
   "cell_type": "code",
   "execution_count": 11,
   "id": "russian-ivory",
   "metadata": {},
   "outputs": [
    {
     "data": {
      "text/plain": [
       "movie_id\n",
       "2858    3211\n",
       "260     2910\n",
       "1196    2885\n",
       "1210    2716\n",
       "2028    2561\n",
       "589     2509\n",
       "593     2498\n",
       "1198    2473\n",
       "1270    2460\n",
       "2571    2434\n",
       "480     2413\n",
       "2762    2385\n",
       "608     2371\n",
       "110     2314\n",
       "1580    2297\n",
       "527     2257\n",
       "1197    2252\n",
       "2396    2213\n",
       "1617    2210\n",
       "318     2194\n",
       "858     2167\n",
       "1265    2121\n",
       "1097    2102\n",
       "2997    2066\n",
       "2716    2051\n",
       "296     2030\n",
       "356     2022\n",
       "1240    2019\n",
       "1       2000\n",
       "457     1941\n",
       "Name: user_id, dtype: int64"
      ]
     },
     "execution_count": 11,
     "metadata": {},
     "output_type": "execute_result"
    }
   ],
   "source": [
    "movies_count = ratings.groupby('movie_id')['user_id'].count()\n",
    "movies_count.sort_values(ascending=False).head(30)"
   ]
  },
  {
   "cell_type": "code",
   "execution_count": 12,
   "id": "noticed-approval",
   "metadata": {},
   "outputs": [
    {
     "data": {
      "text/plain": [
       "count    6039.000000\n",
       "mean      138.512668\n",
       "std       156.241599\n",
       "min         1.000000\n",
       "25%        38.000000\n",
       "50%        81.000000\n",
       "75%       177.000000\n",
       "max      1968.000000\n",
       "Name: movie_id, dtype: float64"
      ]
     },
     "execution_count": 12,
     "metadata": {},
     "output_type": "execute_result"
    }
   ],
   "source": [
    "user_count = ratings.groupby('user_id')['movie_id'].count()\n",
    "user_count.describe()"
   ]
  },
  {
   "cell_type": "code",
   "execution_count": 13,
   "id": "centered-colombia",
   "metadata": {},
   "outputs": [
    {
     "data": {
      "text/plain": [
       "count    6039.000000\n",
       "mean        4.055970\n",
       "std         0.432143\n",
       "min         3.000000\n",
       "25%         4.000000\n",
       "50%         4.000000\n",
       "75%         4.000000\n",
       "max         5.000000\n",
       "Name: counts, dtype: float64"
      ]
     },
     "execution_count": 13,
     "metadata": {},
     "output_type": "execute_result"
    }
   ],
   "source": [
    "user_median = ratings.groupby('user_id')['counts'].median()\n",
    "user_median.describe()"
   ]
  },
  {
   "cell_type": "markdown",
   "id": "valuable-native",
   "metadata": {},
   "source": [
    "3) 내가 선호하는 영화를 5가지 골라서 ratings에 추가해 줍시다."
   ]
  },
  {
   "cell_type": "code",
   "execution_count": 14,
   "id": "reflected-alpha",
   "metadata": {},
   "outputs": [
    {
     "data": {
      "text/html": [
       "<div>\n",
       "<style scoped>\n",
       "    .dataframe tbody tr th:only-of-type {\n",
       "        vertical-align: middle;\n",
       "    }\n",
       "\n",
       "    .dataframe tbody tr th {\n",
       "        vertical-align: top;\n",
       "    }\n",
       "\n",
       "    .dataframe thead th {\n",
       "        text-align: right;\n",
       "    }\n",
       "</style>\n",
       "<table border=\"1\" class=\"dataframe\">\n",
       "  <thead>\n",
       "    <tr style=\"text-align: right;\">\n",
       "      <th></th>\n",
       "      <th>user_id</th>\n",
       "      <th>movie_id</th>\n",
       "      <th>counts</th>\n",
       "    </tr>\n",
       "  </thead>\n",
       "  <tbody>\n",
       "    <tr>\n",
       "      <th>1000208</th>\n",
       "      <td>6040</td>\n",
       "      <td>1097</td>\n",
       "      <td>4</td>\n",
       "    </tr>\n",
       "    <tr>\n",
       "      <th>0</th>\n",
       "      <td>6041</td>\n",
       "      <td>2932</td>\n",
       "      <td>3</td>\n",
       "    </tr>\n",
       "    <tr>\n",
       "      <th>1</th>\n",
       "      <td>6041</td>\n",
       "      <td>2619</td>\n",
       "      <td>3</td>\n",
       "    </tr>\n",
       "    <tr>\n",
       "      <th>2</th>\n",
       "      <td>6041</td>\n",
       "      <td>1</td>\n",
       "      <td>4</td>\n",
       "    </tr>\n",
       "    <tr>\n",
       "      <th>3</th>\n",
       "      <td>6041</td>\n",
       "      <td>3683</td>\n",
       "      <td>4</td>\n",
       "    </tr>\n",
       "    <tr>\n",
       "      <th>4</th>\n",
       "      <td>6041</td>\n",
       "      <td>3543</td>\n",
       "      <td>5</td>\n",
       "    </tr>\n",
       "    <tr>\n",
       "      <th>5</th>\n",
       "      <td>6041</td>\n",
       "      <td>2693</td>\n",
       "      <td>3</td>\n",
       "    </tr>\n",
       "    <tr>\n",
       "      <th>6</th>\n",
       "      <td>6041</td>\n",
       "      <td>2986</td>\n",
       "      <td>3</td>\n",
       "    </tr>\n",
       "    <tr>\n",
       "      <th>7</th>\n",
       "      <td>6041</td>\n",
       "      <td>2287</td>\n",
       "      <td>5</td>\n",
       "    </tr>\n",
       "    <tr>\n",
       "      <th>8</th>\n",
       "      <td>6041</td>\n",
       "      <td>2028</td>\n",
       "      <td>3</td>\n",
       "    </tr>\n",
       "  </tbody>\n",
       "</table>\n",
       "</div>"
      ],
      "text/plain": [
       "         user_id  movie_id  counts\n",
       "1000208     6040      1097       4\n",
       "0           6041      2932       3\n",
       "1           6041      2619       3\n",
       "2           6041         1       4\n",
       "3           6041      3683       4\n",
       "4           6041      3543       5\n",
       "5           6041      2693       3\n",
       "6           6041      2986       3\n",
       "7           6041      2287       5\n",
       "8           6041      2028       3"
      ]
     },
     "execution_count": 14,
     "metadata": {},
     "output_type": "execute_result"
    }
   ],
   "source": [
    "my_favorite = ['Princess Mononoke, The (Mononoke Hime) (1997)' ,'Tarzan (1999)' ,'Toy Story (1995)', 'Chicken Run (2000)',\n",
    "               'Saludos Amigos (1943)', 'Iron Giant, The (1999)', 'Pokémon: The First Movie (1998)', \"Bug's Life, A (1998)\",\n",
    "               'Sleeping Beauty (1959)']\n",
    "title_to_idx = {v:k for k,v in enumerate(movies.title)}\n",
    "mvidlist=[]\n",
    "countlist=[]\n",
    "for i in my_favorite:\n",
    "    mvidlist.append(title_to_idx[i]+1)\n",
    "\n",
    "for i in range(len(mvidlist)):\n",
    "    countlist.append(random.randint(3,5))\n",
    "\n",
    "new_user=ratings['user_id'].nunique()+2\n",
    "\n",
    "my_playlist = pd.DataFrame({'user_id': [new_user]*len(mvidlist), 'movie_id': mvidlist, 'counts':countlist})\n",
    "\n",
    "if not ratings.isin({'user_id':[new_user]})['user_id'].any():\n",
    "    ratings = ratings.append(my_playlist)\n",
    "\n",
    "ratings.tail(10)       # 잘 추가되었는지 확인해 봅시다."
   ]
  },
  {
   "cell_type": "markdown",
   "id": "fifteen-material",
   "metadata": {},
   "source": [
    "4) CSR matrix를 직접 만들어 봅시다."
   ]
  },
  {
   "cell_type": "code",
   "execution_count": 15,
   "id": "single-stocks",
   "metadata": {},
   "outputs": [
    {
     "name": "stdout",
     "output_type": "stream",
     "text": [
      "6040\n",
      "3628\n",
      "(836487,)\n",
      "(836487,)\n",
      "(836487,)\n"
     ]
    },
    {
     "data": {
      "text/plain": [
       "<6042x3953 sparse matrix of type '<class 'numpy.longlong'>'\n",
       "\twith 836487 stored elements in Compressed Sparse Row format>"
      ]
     },
     "execution_count": 15,
     "metadata": {},
     "output_type": "execute_result"
    }
   ],
   "source": [
    "num_user = ratings['user_id'].nunique()\n",
    "num_movie_id = ratings['movie_id'].nunique()\n",
    "\n",
    "print(num_user)\n",
    "print(num_movie_id)\n",
    "print(ratings.user_id.shape)\n",
    "print(ratings.movie_id.shape)\n",
    "print(ratings.counts.shape)\n",
    "\n",
    "csr_data = csr_matrix((ratings.counts, (ratings.user_id, ratings.movie_id)), shape= (num_user+2, num_movie_id+325))\n",
    "csr_data"
   ]
  },
  {
   "cell_type": "markdown",
   "id": "breathing-technical",
   "metadata": {},
   "source": [
    "5) als_model = AlternatingLeastSquares 모델을 직접 구성하여 훈련시켜 봅시다."
   ]
  },
  {
   "cell_type": "code",
   "execution_count": 16,
   "id": "economic-anger",
   "metadata": {},
   "outputs": [],
   "source": [
    "# Implicit AlternatingLeastSquares 모델의 선언\n",
    "als_model = AlternatingLeastSquares(factors=333, regularization=0.01, use_gpu=False, iterations=33, dtype=np.float32)"
   ]
  },
  {
   "cell_type": "code",
   "execution_count": 17,
   "id": "valuable-order",
   "metadata": {},
   "outputs": [
    {
     "data": {
      "text/plain": [
       "<3953x6042 sparse matrix of type '<class 'numpy.longlong'>'\n",
       "\twith 836487 stored elements in Compressed Sparse Column format>"
      ]
     },
     "execution_count": 17,
     "metadata": {},
     "output_type": "execute_result"
    }
   ],
   "source": [
    "# als 모델은 input으로 (item X user 꼴의 matrix를 받기 때문에 Transpose해줍니다.)\n",
    "csr_data_transpose = csr_data.T\n",
    "csr_data_transpose"
   ]
  },
  {
   "cell_type": "code",
   "execution_count": 18,
   "id": "appreciated-progress",
   "metadata": {},
   "outputs": [
    {
     "data": {
      "application/vnd.jupyter.widget-view+json": {
       "model_id": "3fe53d9c48b44d35ab4bcb3ae9734dba",
       "version_major": 2,
       "version_minor": 0
      },
      "text/plain": [
       "  0%|          | 0/33 [00:00<?, ?it/s]"
      ]
     },
     "metadata": {},
     "output_type": "display_data"
    }
   ],
   "source": [
    "# 모델 훈련\n",
    "als_model.fit(csr_data_transpose)"
   ]
  },
  {
   "cell_type": "markdown",
   "id": "photographic-cincinnati",
   "metadata": {},
   "source": [
    "6) 내가 선호하는 5가지 영화 중 하나와 그 외의 영화 하나를 골라 훈련된 모델이 예측한 나의 선호도를 파악해 보세요."
   ]
  },
  {
   "cell_type": "code",
   "execution_count": 19,
   "id": "asian-badge",
   "metadata": {},
   "outputs": [],
   "source": [
    "zimin, toystory = new_user, title_to_idx['Toy Story (1995)']+1\n",
    "zimin_vector, toystory_vector = als_model.user_factors[zimin], als_model.item_factors[toystory]"
   ]
  },
  {
   "cell_type": "code",
   "execution_count": 20,
   "id": "valuable-familiar",
   "metadata": {},
   "outputs": [
    {
     "data": {
      "text/plain": [
       "0.80356336"
      ]
     },
     "execution_count": 20,
     "metadata": {},
     "output_type": "execute_result"
    }
   ],
   "source": [
    "np.dot(zimin_vector, toystory_vector)"
   ]
  },
  {
   "cell_type": "code",
   "execution_count": 21,
   "id": "internal-vietnam",
   "metadata": {},
   "outputs": [
    {
     "data": {
      "text/plain": [
       "0.84523314"
      ]
     },
     "execution_count": 21,
     "metadata": {},
     "output_type": "execute_result"
    }
   ],
   "source": [
    "sleeping = title_to_idx['Sleeping Beauty (1959)']+1\n",
    "sleeping_vector = als_model.item_factors[sleeping]\n",
    "np.dot(zimin_vector, sleeping_vector)"
   ]
  },
  {
   "cell_type": "code",
   "execution_count": 22,
   "id": "collectible-latest",
   "metadata": {},
   "outputs": [
    {
     "data": {
      "text/plain": [
       "-0.026584737"
      ]
     },
     "execution_count": 22,
     "metadata": {},
     "output_type": "execute_result"
    }
   ],
   "source": [
    "toy2 = title_to_idx['Toy Story 2 (1999)']+1\n",
    "toy2_vector = als_model.item_factors[toy2]\n",
    "np.dot(zimin_vector, toy2_vector)"
   ]
  },
  {
   "cell_type": "code",
   "execution_count": 23,
   "id": "established-borough",
   "metadata": {},
   "outputs": [
    {
     "data": {
      "text/plain": [
       "0.0022707782"
      ]
     },
     "execution_count": 23,
     "metadata": {},
     "output_type": "execute_result"
    }
   ],
   "source": [
    "madmax = title_to_idx[\"Mad Max (1979)\"]+1\n",
    "madmax_vector = als_model.item_factors[madmax]\n",
    "np.dot(zimin_vector, madmax_vector)"
   ]
  },
  {
   "cell_type": "markdown",
   "id": "infectious-encounter",
   "metadata": {},
   "source": [
    "7) 내가 좋아하는 영화와 비슷한 영화를 추천받아 봅시다."
   ]
  },
  {
   "cell_type": "code",
   "execution_count": 24,
   "id": "registered-report",
   "metadata": {},
   "outputs": [],
   "source": [
    "def get_similar_movie(movie_name: str):\n",
    "    movie_id = title_to_idx[movie_name]+1\n",
    "    similar_movie = als_model.similar_items(movie_id)\n",
    "    print(similar_movie)\n",
    "    similar_movie = [movies.title[i[0]-1] for i in similar_movie]\n",
    "    return similar_movie"
   ]
  },
  {
   "cell_type": "code",
   "execution_count": 25,
   "id": "oriented-collect",
   "metadata": {},
   "outputs": [
    {
     "name": "stdout",
     "output_type": "stream",
     "text": [
      "[(1, 1.0000001), (3114, 0.35112786), (106, 0.2717791), (1473, 0.27108428), (3796, 0.26836526), (966, 0.26820958), (588, 0.26696247), (1324, 0.26277018), (3344, 0.26266742), (179, 0.26206094)]\n"
     ]
    },
    {
     "data": {
      "text/plain": [
       "['Toy Story (1995)',\n",
       " 'Mr. Death: The Rise and Fall of Fred A. Leuchter Jr. (1999)',\n",
       " 'Muppet Treasure Island (1996)',\n",
       " 'Hollow Reed (1996)',\n",
       " 'Original Kings of Comedy, The (2000)',\n",
       " 'Moonlight Murder (1936)',\n",
       " 'Tough and Deadly (1995)',\n",
       " 'Cape Fear (1962)',\n",
       " 'Bear, The (1988)',\n",
       " 'Mallrats (1995)']"
      ]
     },
     "execution_count": 25,
     "metadata": {},
     "output_type": "execute_result"
    }
   ],
   "source": [
    "get_similar_movie('Toy Story (1995)')"
   ]
  },
  {
   "cell_type": "code",
   "execution_count": 26,
   "id": "blank-train",
   "metadata": {},
   "outputs": [
    {
     "name": "stdout",
     "output_type": "stream",
     "text": [
      "[(3046, 1.0000001), (461, 0.70432043), (2127, 0.6631904), (3631, 0.65958387), (1139, 0.65494555), (1509, 0.64824075), (1549, 0.647526), (2198, 0.6461587), (3282, 0.64140934), (439, 0.64022696)]\n"
     ]
    },
    {
     "data": {
      "text/plain": [
       "['Toy Story 2 (1999)',\n",
       " 'Hard Target (1993)',\n",
       " 'Dirty Work (1998)',\n",
       " 'Starman (1984)',\n",
       " 'T-Men (1947)',\n",
       " 'Shiloh (1997)',\n",
       " 'Cop Land (1997)',\n",
       " \"Butcher's Wife, The (1991)\",\n",
       " 'Raisin in the Sun, A (1961)',\n",
       " 'Demolition Man (1993)']"
      ]
     },
     "execution_count": 26,
     "metadata": {},
     "output_type": "execute_result"
    }
   ],
   "source": [
    "get_similar_movie('Toy Story 2 (1999)')"
   ]
  },
  {
   "cell_type": "code",
   "execution_count": 27,
   "id": "ongoing-samoa",
   "metadata": {},
   "outputs": [
    {
     "name": "stdout",
     "output_type": "stream",
     "text": [
      "[(2932, 1.0), (2925, 0.6568234), (2131, 0.6417236), (3473, 0.6356566), (2923, 0.6223373), (3588, 0.6211431), (3738, 0.6177139), (681, 0.61245334), (2239, 0.6114278), (2285, 0.6091892)]\n"
     ]
    },
    {
     "data": {
      "text/plain": [
       "['Princess Mononoke, The (Mononoke Hime) (1997)',\n",
       " 'Thunderball (1965)',\n",
       " 'Phoenix (1998)',\n",
       " 'Third World Cop (1999)',\n",
       " 'Live and Let Die (1973)',\n",
       " 'Lured (1947)',\n",
       " \"MacKenna's Gold (1969)\",\n",
       " 'Operation Dumbo Drop (1995)',\n",
       " 'One Tough Cop (1998)',\n",
       " 'Enemy of the State (1998)']"
      ]
     },
     "execution_count": 27,
     "metadata": {},
     "output_type": "execute_result"
    }
   ],
   "source": [
    "get_similar_movie('Princess Mononoke, The (Mononoke Hime) (1997)')"
   ]
  },
  {
   "cell_type": "code",
   "execution_count": 28,
   "id": "champion-dayton",
   "metadata": {},
   "outputs": [
    {
     "name": "stdout",
     "output_type": "stream",
     "text": [
      "[(2694, 1.0000001), (2683, 0.41028017), (2541, 0.39730713), (216, 0.39384887), (2392, 0.38807368), (2555, 0.38209626), (1911, 0.38156945), (3004, 0.35943583), (2546, 0.35585806), (2335, 0.34769642)]\n"
     ]
    },
    {
     "data": {
      "text/plain": [
       "['Sixth Sense, The (1999)',\n",
       " 'From the Hip (1987)',\n",
       " 'King of Masks, The (Bian Lian) (1996)',\n",
       " 'Babysitter, The (1995)',\n",
       " 'Texas Chainsaw Massacre 2, The (1986)',\n",
       " \"Trippin' (1999)\",\n",
       " 'Friday the 13th Part VI: Jason Lives (1986)',\n",
       " 'Moonstruck (1987)',\n",
       " 'Chopping Mall (a.k.a. Killbots) (1986)',\n",
       " 'First Blood (1982)']"
      ]
     },
     "execution_count": 28,
     "metadata": {},
     "output_type": "execute_result"
    }
   ],
   "source": [
    "get_similar_movie('Sixth Sense, The (1999)')"
   ]
  },
  {
   "cell_type": "markdown",
   "id": "attached-palestine",
   "metadata": {},
   "source": [
    "8) 내가 가장 좋아할 만한 영화들을 추천받아 봅시다."
   ]
  },
  {
   "cell_type": "code",
   "execution_count": 29,
   "id": "involved-fountain",
   "metadata": {},
   "outputs": [
    {
     "data": {
      "text/plain": [
       "[(3114, 0.25617084),\n",
       " (223, 0.20706007),\n",
       " (1394, 0.19545297),\n",
       " (2396, 0.18764879),\n",
       " (968, 0.17638807),\n",
       " (1253, 0.17507079),\n",
       " (3095, 0.16562507),\n",
       " (2761, 0.1650364),\n",
       " (3342, 0.15838124),\n",
       " (1248, 0.15722421),\n",
       " (2859, 0.15606864),\n",
       " (2355, 0.15565313),\n",
       " (2699, 0.15341689),\n",
       " (162, 0.14801344),\n",
       " (1301, 0.13984857),\n",
       " (3608, 0.13850883),\n",
       " (1217, 0.13537808),\n",
       " (921, 0.13478026),\n",
       " (2424, 0.13414983),\n",
       " (1019, 0.13372645)]"
      ]
     },
     "execution_count": 29,
     "metadata": {},
     "output_type": "execute_result"
    }
   ],
   "source": [
    "# recommend에서는 user*item CSR Matrix를 받습니다.\n",
    "movie_recommended = als_model.recommend(new_user, csr_data, N=20, filter_already_liked_items=True)\n",
    "movie_recommended"
   ]
  },
  {
   "cell_type": "code",
   "execution_count": 30,
   "id": "swiss-boulder",
   "metadata": {},
   "outputs": [
    {
     "name": "stdout",
     "output_type": "stream",
     "text": [
      "Mr. Death: The Rise and Fall of Fred A. Leuchter Jr. (1999)\n",
      "Disclosure (1994)\n",
      "Evita (1996)\n",
      "Trick or Treat (1986)\n",
      "Nothing Personal (1995)\n"
     ]
    }
   ],
   "source": [
    "for i in range(5):\n",
    "    print(movies.title[movie_recommended[i][0]-1])"
   ]
  },
  {
   "cell_type": "code",
   "execution_count": 31,
   "id": "active-bruce",
   "metadata": {},
   "outputs": [
    {
     "data": {
      "text/plain": [
       "(0.25320911308936855,\n",
       " [(1, 0.2010342720644717),\n",
       "  (2986, 0.04569027611290182),\n",
       "  (2693, 0.029580789222498377),\n",
       "  (3683, 0.020875922812737913),\n",
       "  (2619, 0.00023879770390393217),\n",
       "  (2932, -0.000271537802345056),\n",
       "  (2028, -0.00046197079263789013),\n",
       "  (2287, -0.01860513113180528),\n",
       "  (3543, -0.024872305100356942)],\n",
       " (array([[ 0.60813318,  0.11469229,  0.1388796 , ...,  0.17195604,\n",
       "           0.14380857,  0.16184122],\n",
       "         [ 0.06974819,  0.57503128,  0.09345346, ...,  0.107777  ,\n",
       "           0.10378021,  0.10060385],\n",
       "         [ 0.08445729,  0.06966708,  0.56696509, ...,  0.10318129,\n",
       "           0.09997425,  0.0857504 ],\n",
       "         ...,\n",
       "         [ 0.10457218,  0.08169718,  0.09245351, ...,  0.50578597,\n",
       "           0.00061264, -0.00636917],\n",
       "         [ 0.08745476,  0.0761706 ,  0.08635261, ...,  0.10044544,\n",
       "           0.49820242,  0.00501481],\n",
       "         [ 0.09842101,  0.0764123 ,  0.0804957 , ...,  0.09642631,\n",
       "           0.09356689,  0.506809  ]]),\n",
       "  False))"
      ]
     },
     "execution_count": 31,
     "metadata": {},
     "output_type": "execute_result"
    }
   ],
   "source": [
    "explain = als_model.explain(new_user, csr_data, itemid=movie_recommended[0][0])\n",
    "explain"
   ]
  },
  {
   "cell_type": "markdown",
   "id": "architectural-hazard",
   "metadata": {},
   "source": [
    "하이퍼파라미터를 바꾸어 보았을 때 결과의 수치가 변하기는 하지만 결과 목록은 거의 변하지 않았다.\n",
    "rating.counts 값 3~5 에 따른 차이는 거의 없다.\n",
    "선호 영화 목록에 따라 결과가 확연히 변화하였다.\n",
    "\n",
    "1. CSR matrix가 정상적으로 만들어졌다.\n",
    "\n",
    "사용자와 아이템 개수를 바탕으로 정확한 사이즈로 만들었다.\n",
    "\n",
    " - CSR matrix가 정상적으로 만들어졌는데 정확한 사이즈 수치가 왜 저렇게 된건지 모르겠다.\n",
    "\n",
    "\n",
    "2. MF 모델이 정상적으로 훈련되어 그럴듯한 추천이 이루어졌다.\n",
    "\n",
    "사용자와 아이템 벡터 내적수치가 의미있게 형성되었다.\n",
    "\n",
    "3. 비슷한 영화 찾기와 유저에게 추천하기의 과정이 정상적으로 진행되었다.\n",
    "\n",
    "MF모델이 예측한 유저 선호도 및 아이템간 유사도, 기여도가 의미있게 측정되었다.\n",
    "\n",
    " - 수치들은 그럴듯하게 나타났지만 예상과 많이 다른 결과가 나타났다. 결과로 나온 영화 제목을 검색해 간략한 정보를 보았을 때 비슷한 영화가 아닌것 같고, 데이터셋에 있는 시리즈작품은 유사한 영화로 나오지 않았다. 그리고 선호하는 영화를 편향되게 선택하였지만 추천 결과는 선호 영화와 동떨어진 결과가 나왔다."
   ]
  }
 ],
 "metadata": {
  "kernelspec": {
   "display_name": "Python 3",
   "language": "python",
   "name": "python3"
  },
  "language_info": {
   "codemirror_mode": {
    "name": "ipython",
    "version": 3
   },
   "file_extension": ".py",
   "mimetype": "text/x-python",
   "name": "python",
   "nbconvert_exporter": "python",
   "pygments_lexer": "ipython3",
   "version": "3.7.9"
  }
 },
 "nbformat": 4,
 "nbformat_minor": 5
}
